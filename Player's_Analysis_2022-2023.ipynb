{
 "cells": [
  {
   "cell_type": "markdown",
   "id": "d5180083",
   "metadata": {},
   "source": [
    "# Importing all the necessary libraries."
   ]
  },
  {
   "cell_type": "code",
   "execution_count": 73,
   "id": "5b2f14d2",
   "metadata": {},
   "outputs": [],
   "source": [
    "%matplotlib inline\n",
    "import numpy as np\n",
    "import pandas as pd\n",
    "import matplotlib.pyplot as plt\n",
    "from collections import Counter\n",
    "import operator "
   ]
  },
  {
   "cell_type": "markdown",
   "id": "13ed0138",
   "metadata": {},
   "source": [
    "## Reading the Dataset."
   ]
  },
  {
   "cell_type": "code",
   "execution_count": 138,
   "id": "d1297196",
   "metadata": {},
   "outputs": [
    {
     "data": {
      "text/html": [
       "<div>\n",
       "<style scoped>\n",
       "    .dataframe tbody tr th:only-of-type {\n",
       "        vertical-align: middle;\n",
       "    }\n",
       "\n",
       "    .dataframe tbody tr th {\n",
       "        vertical-align: top;\n",
       "    }\n",
       "\n",
       "    .dataframe thead th {\n",
       "        text-align: right;\n",
       "    }\n",
       "</style>\n",
       "<table border=\"1\" class=\"dataframe\">\n",
       "  <thead>\n",
       "    <tr style=\"text-align: right;\">\n",
       "      <th></th>\n",
       "      <th>S.No</th>\n",
       "      <th>Player</th>\n",
       "      <th>Nation</th>\n",
       "      <th>Pos</th>\n",
       "      <th>Squad</th>\n",
       "      <th>Comp</th>\n",
       "      <th>Age</th>\n",
       "      <th>Born</th>\n",
       "      <th>MP</th>\n",
       "      <th>Starts</th>\n",
       "      <th>...</th>\n",
       "      <th>Off</th>\n",
       "      <th>Crs</th>\n",
       "      <th>TklW</th>\n",
       "      <th>PKwon</th>\n",
       "      <th>PKcon</th>\n",
       "      <th>OG</th>\n",
       "      <th>Recov</th>\n",
       "      <th>AerWon</th>\n",
       "      <th>AerLost</th>\n",
       "      <th>AerWon%</th>\n",
       "    </tr>\n",
       "  </thead>\n",
       "  <tbody>\n",
       "    <tr>\n",
       "      <th>0</th>\n",
       "      <td>1</td>\n",
       "      <td>Brenden Aaronson</td>\n",
       "      <td>USA</td>\n",
       "      <td>MFFW</td>\n",
       "      <td>Leeds United</td>\n",
       "      <td>Premier League</td>\n",
       "      <td>21</td>\n",
       "      <td>2000</td>\n",
       "      <td>7</td>\n",
       "      <td>7</td>\n",
       "      <td>...</td>\n",
       "      <td>0.47</td>\n",
       "      <td>1.25</td>\n",
       "      <td>1.09</td>\n",
       "      <td>0.0</td>\n",
       "      <td>0.0</td>\n",
       "      <td>0.0</td>\n",
       "      <td>5.78</td>\n",
       "      <td>0.47</td>\n",
       "      <td>2.66</td>\n",
       "      <td>15.0</td>\n",
       "    </tr>\n",
       "    <tr>\n",
       "      <th>1</th>\n",
       "      <td>2</td>\n",
       "      <td>Yunis Abdelhamid</td>\n",
       "      <td>MAR</td>\n",
       "      <td>DF</td>\n",
       "      <td>Reims</td>\n",
       "      <td>Ligue 1</td>\n",
       "      <td>35</td>\n",
       "      <td>1987</td>\n",
       "      <td>10</td>\n",
       "      <td>10</td>\n",
       "      <td>...</td>\n",
       "      <td>0.00</td>\n",
       "      <td>0.20</td>\n",
       "      <td>1.30</td>\n",
       "      <td>0.0</td>\n",
       "      <td>0.0</td>\n",
       "      <td>0.0</td>\n",
       "      <td>8.50</td>\n",
       "      <td>2.00</td>\n",
       "      <td>0.70</td>\n",
       "      <td>74.1</td>\n",
       "    </tr>\n",
       "    <tr>\n",
       "      <th>2</th>\n",
       "      <td>3</td>\n",
       "      <td>Himad Abdelli</td>\n",
       "      <td>FRA</td>\n",
       "      <td>MF</td>\n",
       "      <td>Angers</td>\n",
       "      <td>Ligue 1</td>\n",
       "      <td>22</td>\n",
       "      <td>1999</td>\n",
       "      <td>3</td>\n",
       "      <td>0</td>\n",
       "      <td>...</td>\n",
       "      <td>0.00</td>\n",
       "      <td>0.00</td>\n",
       "      <td>0.00</td>\n",
       "      <td>0.0</td>\n",
       "      <td>0.0</td>\n",
       "      <td>0.0</td>\n",
       "      <td>10.00</td>\n",
       "      <td>0.00</td>\n",
       "      <td>3.33</td>\n",
       "      <td>0.0</td>\n",
       "    </tr>\n",
       "    <tr>\n",
       "      <th>3</th>\n",
       "      <td>4</td>\n",
       "      <td>Salis Abdul Samed</td>\n",
       "      <td>GHA</td>\n",
       "      <td>MF</td>\n",
       "      <td>Lens</td>\n",
       "      <td>Ligue 1</td>\n",
       "      <td>22</td>\n",
       "      <td>2000</td>\n",
       "      <td>9</td>\n",
       "      <td>9</td>\n",
       "      <td>...</td>\n",
       "      <td>0.00</td>\n",
       "      <td>0.44</td>\n",
       "      <td>1.11</td>\n",
       "      <td>0.0</td>\n",
       "      <td>0.0</td>\n",
       "      <td>0.0</td>\n",
       "      <td>7.89</td>\n",
       "      <td>0.44</td>\n",
       "      <td>0.78</td>\n",
       "      <td>36.4</td>\n",
       "    </tr>\n",
       "    <tr>\n",
       "      <th>4</th>\n",
       "      <td>5</td>\n",
       "      <td>Laurent Abergel</td>\n",
       "      <td>FRA</td>\n",
       "      <td>MF</td>\n",
       "      <td>Lorient</td>\n",
       "      <td>Ligue 1</td>\n",
       "      <td>29</td>\n",
       "      <td>1993</td>\n",
       "      <td>9</td>\n",
       "      <td>9</td>\n",
       "      <td>...</td>\n",
       "      <td>0.00</td>\n",
       "      <td>0.11</td>\n",
       "      <td>2.41</td>\n",
       "      <td>0.0</td>\n",
       "      <td>0.0</td>\n",
       "      <td>0.0</td>\n",
       "      <td>6.67</td>\n",
       "      <td>0.57</td>\n",
       "      <td>0.34</td>\n",
       "      <td>62.5</td>\n",
       "    </tr>\n",
       "  </tbody>\n",
       "</table>\n",
       "<p>5 rows × 143 columns</p>\n",
       "</div>"
      ],
      "text/plain": [
       "   S.No             Player Nation   Pos         Squad            Comp  Age  \\\n",
       "0     1   Brenden Aaronson    USA  MFFW  Leeds United  Premier League   21   \n",
       "1     2   Yunis Abdelhamid    MAR    DF         Reims         Ligue 1   35   \n",
       "2     3      Himad Abdelli    FRA    MF        Angers         Ligue 1   22   \n",
       "3     4  Salis Abdul Samed    GHA    MF          Lens         Ligue 1   22   \n",
       "4     5    Laurent Abergel    FRA    MF       Lorient         Ligue 1   29   \n",
       "\n",
       "   Born  MP  Starts  ...   Off   Crs  TklW  PKwon  PKcon   OG  Recov  AerWon  \\\n",
       "0  2000   7       7  ...  0.47  1.25  1.09    0.0    0.0  0.0   5.78    0.47   \n",
       "1  1987  10      10  ...  0.00  0.20  1.30    0.0    0.0  0.0   8.50    2.00   \n",
       "2  1999   3       0  ...  0.00  0.00  0.00    0.0    0.0  0.0  10.00    0.00   \n",
       "3  2000   9       9  ...  0.00  0.44  1.11    0.0    0.0  0.0   7.89    0.44   \n",
       "4  1993   9       9  ...  0.00  0.11  2.41    0.0    0.0  0.0   6.67    0.57   \n",
       "\n",
       "   AerLost  AerWon%  \n",
       "0     2.66     15.0  \n",
       "1     0.70     74.1  \n",
       "2     3.33      0.0  \n",
       "3     0.78     36.4  \n",
       "4     0.34     62.5  \n",
       "\n",
       "[5 rows x 143 columns]"
      ]
     },
     "execution_count": 138,
     "metadata": {},
     "output_type": "execute_result"
    }
   ],
   "source": [
    "df = pd.read_csv(\"Football_stats.csv\")\n",
    "\n",
    "\n",
    "df.head()"
   ]
  },
  {
   "cell_type": "markdown",
   "id": "d530c40e",
   "metadata": {},
   "source": [
    "## List of all the Leagues."
   ]
  },
  {
   "cell_type": "code",
   "execution_count": 75,
   "id": "f7df44e2",
   "metadata": {},
   "outputs": [
    {
     "name": "stdout",
     "output_type": "stream",
     "text": [
      "La Liga\n",
      "Ligue 1\n",
      "Serie A\n",
      "Bundesliga\n",
      "Premier League\n"
     ]
    }
   ],
   "source": [
    "set1 = set(df[\"Comp\"])\n",
    "for i in set1:\n",
    "    print(i)"
   ]
  },
  {
   "cell_type": "markdown",
   "id": "56c4d6c8",
   "metadata": {},
   "source": [
    "## La Liga 2022-2023 Football Player Stats."
   ]
  },
  {
   "cell_type": "markdown",
   "id": "762ad46e",
   "metadata": {},
   "source": [
    "#### Making a DataFrame of only La Liga players."
   ]
  },
  {
   "cell_type": "code",
   "execution_count": 76,
   "id": "bb5cdf4d",
   "metadata": {},
   "outputs": [
    {
     "data": {
      "text/html": [
       "<div>\n",
       "<style scoped>\n",
       "    .dataframe tbody tr th:only-of-type {\n",
       "        vertical-align: middle;\n",
       "    }\n",
       "\n",
       "    .dataframe tbody tr th {\n",
       "        vertical-align: top;\n",
       "    }\n",
       "\n",
       "    .dataframe thead th {\n",
       "        text-align: right;\n",
       "    }\n",
       "</style>\n",
       "<table border=\"1\" class=\"dataframe\">\n",
       "  <thead>\n",
       "    <tr style=\"text-align: right;\">\n",
       "      <th></th>\n",
       "      <th>S.No</th>\n",
       "      <th>Player</th>\n",
       "      <th>Nation</th>\n",
       "      <th>Pos</th>\n",
       "      <th>Squad</th>\n",
       "      <th>Comp</th>\n",
       "      <th>Age</th>\n",
       "      <th>Born</th>\n",
       "      <th>MP</th>\n",
       "      <th>Starts</th>\n",
       "      <th>...</th>\n",
       "      <th>Off</th>\n",
       "      <th>Crs</th>\n",
       "      <th>TklW</th>\n",
       "      <th>PKwon</th>\n",
       "      <th>PKcon</th>\n",
       "      <th>OG</th>\n",
       "      <th>Recov</th>\n",
       "      <th>AerWon</th>\n",
       "      <th>AerLost</th>\n",
       "      <th>AerWon%</th>\n",
       "    </tr>\n",
       "  </thead>\n",
       "  <tbody>\n",
       "    <tr>\n",
       "      <th>10</th>\n",
       "      <td>11</td>\n",
       "      <td>Marcos Acuña</td>\n",
       "      <td>ARG</td>\n",
       "      <td>DF</td>\n",
       "      <td>Sevilla</td>\n",
       "      <td>La Liga</td>\n",
       "      <td>30</td>\n",
       "      <td>1991</td>\n",
       "      <td>6</td>\n",
       "      <td>5</td>\n",
       "      <td>...</td>\n",
       "      <td>0.0</td>\n",
       "      <td>4.67</td>\n",
       "      <td>2.44</td>\n",
       "      <td>0.0</td>\n",
       "      <td>0.22</td>\n",
       "      <td>0.0</td>\n",
       "      <td>8.44</td>\n",
       "      <td>2.00</td>\n",
       "      <td>0.89</td>\n",
       "      <td>69.2</td>\n",
       "    </tr>\n",
       "    <tr>\n",
       "      <th>24</th>\n",
       "      <td>25</td>\n",
       "      <td>Álvaro Aguado</td>\n",
       "      <td>ESP</td>\n",
       "      <td>MF</td>\n",
       "      <td>Valladolid</td>\n",
       "      <td>La Liga</td>\n",
       "      <td>26</td>\n",
       "      <td>1996</td>\n",
       "      <td>6</td>\n",
       "      <td>5</td>\n",
       "      <td>...</td>\n",
       "      <td>0.0</td>\n",
       "      <td>0.68</td>\n",
       "      <td>0.91</td>\n",
       "      <td>0.0</td>\n",
       "      <td>0.23</td>\n",
       "      <td>0.0</td>\n",
       "      <td>10.20</td>\n",
       "      <td>0.23</td>\n",
       "      <td>0.68</td>\n",
       "      <td>25.0</td>\n",
       "    </tr>\n",
       "    <tr>\n",
       "      <th>29</th>\n",
       "      <td>30</td>\n",
       "      <td>Joseph Aidoo</td>\n",
       "      <td>GHA</td>\n",
       "      <td>DF</td>\n",
       "      <td>Celta Vigo</td>\n",
       "      <td>La Liga</td>\n",
       "      <td>27</td>\n",
       "      <td>1995</td>\n",
       "      <td>7</td>\n",
       "      <td>7</td>\n",
       "      <td>...</td>\n",
       "      <td>0.0</td>\n",
       "      <td>0.14</td>\n",
       "      <td>1.29</td>\n",
       "      <td>0.0</td>\n",
       "      <td>0.00</td>\n",
       "      <td>0.0</td>\n",
       "      <td>9.86</td>\n",
       "      <td>1.43</td>\n",
       "      <td>2.00</td>\n",
       "      <td>41.7</td>\n",
       "    </tr>\n",
       "    <tr>\n",
       "      <th>37</th>\n",
       "      <td>38</td>\n",
       "      <td>Sergio Akieme</td>\n",
       "      <td>ESP</td>\n",
       "      <td>DF</td>\n",
       "      <td>Almería</td>\n",
       "      <td>La Liga</td>\n",
       "      <td>24</td>\n",
       "      <td>1997</td>\n",
       "      <td>8</td>\n",
       "      <td>8</td>\n",
       "      <td>...</td>\n",
       "      <td>0.0</td>\n",
       "      <td>2.25</td>\n",
       "      <td>1.63</td>\n",
       "      <td>0.0</td>\n",
       "      <td>0.00</td>\n",
       "      <td>0.0</td>\n",
       "      <td>7.63</td>\n",
       "      <td>0.50</td>\n",
       "      <td>1.00</td>\n",
       "      <td>33.3</td>\n",
       "    </tr>\n",
       "    <tr>\n",
       "      <th>39</th>\n",
       "      <td>40</td>\n",
       "      <td>Paul Akouokou</td>\n",
       "      <td>CIV</td>\n",
       "      <td>MF</td>\n",
       "      <td>Betis</td>\n",
       "      <td>La Liga</td>\n",
       "      <td>24</td>\n",
       "      <td>1997</td>\n",
       "      <td>4</td>\n",
       "      <td>1</td>\n",
       "      <td>...</td>\n",
       "      <td>0.0</td>\n",
       "      <td>0.00</td>\n",
       "      <td>2.31</td>\n",
       "      <td>0.0</td>\n",
       "      <td>0.00</td>\n",
       "      <td>0.0</td>\n",
       "      <td>9.23</td>\n",
       "      <td>0.00</td>\n",
       "      <td>1.54</td>\n",
       "      <td>0.0</td>\n",
       "    </tr>\n",
       "  </tbody>\n",
       "</table>\n",
       "<p>5 rows × 143 columns</p>\n",
       "</div>"
      ],
      "text/plain": [
       "    S.No         Player Nation Pos       Squad     Comp  Age  Born  MP  \\\n",
       "10    11   Marcos Acuña    ARG  DF     Sevilla  La Liga   30  1991   6   \n",
       "24    25  Álvaro Aguado    ESP  MF  Valladolid  La Liga   26  1996   6   \n",
       "29    30   Joseph Aidoo    GHA  DF  Celta Vigo  La Liga   27  1995   7   \n",
       "37    38  Sergio Akieme    ESP  DF     Almería  La Liga   24  1997   8   \n",
       "39    40  Paul Akouokou    CIV  MF       Betis  La Liga   24  1997   4   \n",
       "\n",
       "    Starts  ...  Off   Crs  TklW  PKwon  PKcon   OG  Recov  AerWon  AerLost  \\\n",
       "10       5  ...  0.0  4.67  2.44    0.0   0.22  0.0   8.44    2.00     0.89   \n",
       "24       5  ...  0.0  0.68  0.91    0.0   0.23  0.0  10.20    0.23     0.68   \n",
       "29       7  ...  0.0  0.14  1.29    0.0   0.00  0.0   9.86    1.43     2.00   \n",
       "37       8  ...  0.0  2.25  1.63    0.0   0.00  0.0   7.63    0.50     1.00   \n",
       "39       1  ...  0.0  0.00  2.31    0.0   0.00  0.0   9.23    0.00     1.54   \n",
       "\n",
       "    AerWon%  \n",
       "10     69.2  \n",
       "24     25.0  \n",
       "29     41.7  \n",
       "37     33.3  \n",
       "39      0.0  \n",
       "\n",
       "[5 rows x 143 columns]"
      ]
     },
     "execution_count": 76,
     "metadata": {},
     "output_type": "execute_result"
    }
   ],
   "source": [
    "a = df.loc[df.Comp == \"La Liga\"]\n",
    "\n",
    "\n",
    "a.head()"
   ]
  },
  {
   "cell_type": "markdown",
   "id": "732ebdde",
   "metadata": {},
   "source": [
    "#### Deleting S.No column from DataFrame."
   ]
  },
  {
   "cell_type": "code",
   "execution_count": 77,
   "id": "365e3600",
   "metadata": {},
   "outputs": [
    {
     "data": {
      "text/html": [
       "<div>\n",
       "<style scoped>\n",
       "    .dataframe tbody tr th:only-of-type {\n",
       "        vertical-align: middle;\n",
       "    }\n",
       "\n",
       "    .dataframe tbody tr th {\n",
       "        vertical-align: top;\n",
       "    }\n",
       "\n",
       "    .dataframe thead th {\n",
       "        text-align: right;\n",
       "    }\n",
       "</style>\n",
       "<table border=\"1\" class=\"dataframe\">\n",
       "  <thead>\n",
       "    <tr style=\"text-align: right;\">\n",
       "      <th></th>\n",
       "      <th>Player</th>\n",
       "      <th>Nation</th>\n",
       "      <th>Pos</th>\n",
       "      <th>Squad</th>\n",
       "      <th>Comp</th>\n",
       "      <th>Age</th>\n",
       "      <th>Born</th>\n",
       "      <th>MP</th>\n",
       "      <th>Starts</th>\n",
       "      <th>Min</th>\n",
       "      <th>...</th>\n",
       "      <th>Off</th>\n",
       "      <th>Crs</th>\n",
       "      <th>TklW</th>\n",
       "      <th>PKwon</th>\n",
       "      <th>PKcon</th>\n",
       "      <th>OG</th>\n",
       "      <th>Recov</th>\n",
       "      <th>AerWon</th>\n",
       "      <th>AerLost</th>\n",
       "      <th>AerWon%</th>\n",
       "    </tr>\n",
       "  </thead>\n",
       "  <tbody>\n",
       "    <tr>\n",
       "      <th>10</th>\n",
       "      <td>Marcos Acuña</td>\n",
       "      <td>ARG</td>\n",
       "      <td>DF</td>\n",
       "      <td>Sevilla</td>\n",
       "      <td>La Liga</td>\n",
       "      <td>30</td>\n",
       "      <td>1991</td>\n",
       "      <td>6</td>\n",
       "      <td>5</td>\n",
       "      <td>405</td>\n",
       "      <td>...</td>\n",
       "      <td>0.0</td>\n",
       "      <td>4.67</td>\n",
       "      <td>2.44</td>\n",
       "      <td>0.0</td>\n",
       "      <td>0.22</td>\n",
       "      <td>0.0</td>\n",
       "      <td>8.44</td>\n",
       "      <td>2.00</td>\n",
       "      <td>0.89</td>\n",
       "      <td>69.2</td>\n",
       "    </tr>\n",
       "    <tr>\n",
       "      <th>24</th>\n",
       "      <td>Álvaro Aguado</td>\n",
       "      <td>ESP</td>\n",
       "      <td>MF</td>\n",
       "      <td>Valladolid</td>\n",
       "      <td>La Liga</td>\n",
       "      <td>26</td>\n",
       "      <td>1996</td>\n",
       "      <td>6</td>\n",
       "      <td>5</td>\n",
       "      <td>395</td>\n",
       "      <td>...</td>\n",
       "      <td>0.0</td>\n",
       "      <td>0.68</td>\n",
       "      <td>0.91</td>\n",
       "      <td>0.0</td>\n",
       "      <td>0.23</td>\n",
       "      <td>0.0</td>\n",
       "      <td>10.20</td>\n",
       "      <td>0.23</td>\n",
       "      <td>0.68</td>\n",
       "      <td>25.0</td>\n",
       "    </tr>\n",
       "    <tr>\n",
       "      <th>29</th>\n",
       "      <td>Joseph Aidoo</td>\n",
       "      <td>GHA</td>\n",
       "      <td>DF</td>\n",
       "      <td>Celta Vigo</td>\n",
       "      <td>La Liga</td>\n",
       "      <td>27</td>\n",
       "      <td>1995</td>\n",
       "      <td>7</td>\n",
       "      <td>7</td>\n",
       "      <td>630</td>\n",
       "      <td>...</td>\n",
       "      <td>0.0</td>\n",
       "      <td>0.14</td>\n",
       "      <td>1.29</td>\n",
       "      <td>0.0</td>\n",
       "      <td>0.00</td>\n",
       "      <td>0.0</td>\n",
       "      <td>9.86</td>\n",
       "      <td>1.43</td>\n",
       "      <td>2.00</td>\n",
       "      <td>41.7</td>\n",
       "    </tr>\n",
       "    <tr>\n",
       "      <th>37</th>\n",
       "      <td>Sergio Akieme</td>\n",
       "      <td>ESP</td>\n",
       "      <td>DF</td>\n",
       "      <td>Almería</td>\n",
       "      <td>La Liga</td>\n",
       "      <td>24</td>\n",
       "      <td>1997</td>\n",
       "      <td>8</td>\n",
       "      <td>8</td>\n",
       "      <td>720</td>\n",
       "      <td>...</td>\n",
       "      <td>0.0</td>\n",
       "      <td>2.25</td>\n",
       "      <td>1.63</td>\n",
       "      <td>0.0</td>\n",
       "      <td>0.00</td>\n",
       "      <td>0.0</td>\n",
       "      <td>7.63</td>\n",
       "      <td>0.50</td>\n",
       "      <td>1.00</td>\n",
       "      <td>33.3</td>\n",
       "    </tr>\n",
       "    <tr>\n",
       "      <th>39</th>\n",
       "      <td>Paul Akouokou</td>\n",
       "      <td>CIV</td>\n",
       "      <td>MF</td>\n",
       "      <td>Betis</td>\n",
       "      <td>La Liga</td>\n",
       "      <td>24</td>\n",
       "      <td>1997</td>\n",
       "      <td>4</td>\n",
       "      <td>1</td>\n",
       "      <td>117</td>\n",
       "      <td>...</td>\n",
       "      <td>0.0</td>\n",
       "      <td>0.00</td>\n",
       "      <td>2.31</td>\n",
       "      <td>0.0</td>\n",
       "      <td>0.00</td>\n",
       "      <td>0.0</td>\n",
       "      <td>9.23</td>\n",
       "      <td>0.00</td>\n",
       "      <td>1.54</td>\n",
       "      <td>0.0</td>\n",
       "    </tr>\n",
       "  </tbody>\n",
       "</table>\n",
       "<p>5 rows × 142 columns</p>\n",
       "</div>"
      ],
      "text/plain": [
       "           Player Nation Pos       Squad     Comp  Age  Born  MP  Starts  Min  \\\n",
       "10   Marcos Acuña    ARG  DF     Sevilla  La Liga   30  1991   6       5  405   \n",
       "24  Álvaro Aguado    ESP  MF  Valladolid  La Liga   26  1996   6       5  395   \n",
       "29   Joseph Aidoo    GHA  DF  Celta Vigo  La Liga   27  1995   7       7  630   \n",
       "37  Sergio Akieme    ESP  DF     Almería  La Liga   24  1997   8       8  720   \n",
       "39  Paul Akouokou    CIV  MF       Betis  La Liga   24  1997   4       1  117   \n",
       "\n",
       "    ...  Off   Crs  TklW  PKwon  PKcon   OG  Recov  AerWon  AerLost  AerWon%  \n",
       "10  ...  0.0  4.67  2.44    0.0   0.22  0.0   8.44    2.00     0.89     69.2  \n",
       "24  ...  0.0  0.68  0.91    0.0   0.23  0.0  10.20    0.23     0.68     25.0  \n",
       "29  ...  0.0  0.14  1.29    0.0   0.00  0.0   9.86    1.43     2.00     41.7  \n",
       "37  ...  0.0  2.25  1.63    0.0   0.00  0.0   7.63    0.50     1.00     33.3  \n",
       "39  ...  0.0  0.00  2.31    0.0   0.00  0.0   9.23    0.00     1.54      0.0  \n",
       "\n",
       "[5 rows x 142 columns]"
      ]
     },
     "execution_count": 77,
     "metadata": {},
     "output_type": "execute_result"
    }
   ],
   "source": [
    "b = a.drop('S.No', axis = 1)\n",
    "\n",
    "\n",
    "b.head()"
   ]
  },
  {
   "cell_type": "markdown",
   "id": "dc012b3a",
   "metadata": {},
   "source": [
    "#### Average age of players in La Liga."
   ]
  },
  {
   "cell_type": "code",
   "execution_count": 78,
   "id": "b11c3286",
   "metadata": {},
   "outputs": [
    {
     "name": "stdout",
     "output_type": "stream",
     "text": [
      "Average age of player is:  26\n"
     ]
    }
   ],
   "source": [
    "av_age = int(b[\"Age\"].mean())\n",
    "\n",
    "\n",
    "print(\"Average age of player is: \", av_age)"
   ]
  },
  {
   "cell_type": "markdown",
   "id": "07e95975",
   "metadata": {},
   "source": [
    "#### Oldest player in La Liga."
   ]
  },
  {
   "cell_type": "code",
   "execution_count": 79,
   "id": "8b11b18d",
   "metadata": {},
   "outputs": [
    {
     "name": "stdout",
     "output_type": "stream",
     "text": [
      "Name of the oldest player:  Joaquín \n",
      "\n",
      "Age of the oldest player:  41\n"
     ]
    }
   ],
   "source": [
    "oldest = b.loc[b[\"Age\"].idxmax()]\n",
    "\n",
    "\n",
    "print(\"Name of the oldest player: \", oldest['Player'],\"\\n\")\n",
    "print(\"Age of the oldest player: \", oldest['Age'])"
   ]
  },
  {
   "cell_type": "markdown",
   "id": "b0693898",
   "metadata": {},
   "source": [
    "#### Youngest player in La Liga.\n"
   ]
  },
  {
   "cell_type": "code",
   "execution_count": 80,
   "id": "a90268a5",
   "metadata": {},
   "outputs": [
    {
     "name": "stdout",
     "output_type": "stream",
     "text": [
      "Player     Javier Llabrés\n",
      "Nation                  0\n",
      "Pos                    FW\n",
      "Squad            Mallorca\n",
      "Comp              La Liga\n",
      "                ...      \n",
      "OG                    0.0\n",
      "Recov                 5.0\n",
      "AerWon                0.0\n",
      "AerLost               5.0\n",
      "AerWon%               0.0\n",
      "Name: 1226, Length: 142, dtype: object \n",
      "\n",
      "Name of the youngest player:  Javier Llabrés\n",
      "Age of the youngest player:  0\n"
     ]
    }
   ],
   "source": [
    "a = b.loc[b[\"Age\"].idxmin()]\n",
    "\n",
    "print(a,'\\n')\n",
    "print(\"Name of the youngest player: \", a['Player'])\n",
    "print(\"Age of the youngest player: \", a['Age'])"
   ]
  },
  {
   "cell_type": "markdown",
   "id": "a068f088",
   "metadata": {},
   "source": [
    "###### Since Age of the player 0 is not possible, this data is false.\n",
    "##### Therefore removing this data from the DataFrame."
   ]
  },
  {
   "cell_type": "code",
   "execution_count": 81,
   "id": "f31ab0d3",
   "metadata": {},
   "outputs": [
    {
     "data": {
      "text/html": [
       "<div>\n",
       "<style scoped>\n",
       "    .dataframe tbody tr th:only-of-type {\n",
       "        vertical-align: middle;\n",
       "    }\n",
       "\n",
       "    .dataframe tbody tr th {\n",
       "        vertical-align: top;\n",
       "    }\n",
       "\n",
       "    .dataframe thead th {\n",
       "        text-align: right;\n",
       "    }\n",
       "</style>\n",
       "<table border=\"1\" class=\"dataframe\">\n",
       "  <thead>\n",
       "    <tr style=\"text-align: right;\">\n",
       "      <th></th>\n",
       "      <th>Player</th>\n",
       "      <th>Nation</th>\n",
       "      <th>Pos</th>\n",
       "      <th>Squad</th>\n",
       "      <th>Comp</th>\n",
       "      <th>Age</th>\n",
       "      <th>Born</th>\n",
       "      <th>MP</th>\n",
       "      <th>Starts</th>\n",
       "      <th>Min</th>\n",
       "      <th>...</th>\n",
       "      <th>Off</th>\n",
       "      <th>Crs</th>\n",
       "      <th>TklW</th>\n",
       "      <th>PKwon</th>\n",
       "      <th>PKcon</th>\n",
       "      <th>OG</th>\n",
       "      <th>Recov</th>\n",
       "      <th>AerWon</th>\n",
       "      <th>AerLost</th>\n",
       "      <th>AerWon%</th>\n",
       "    </tr>\n",
       "  </thead>\n",
       "  <tbody>\n",
       "    <tr>\n",
       "      <th>10</th>\n",
       "      <td>Marcos Acuña</td>\n",
       "      <td>ARG</td>\n",
       "      <td>DF</td>\n",
       "      <td>Sevilla</td>\n",
       "      <td>La Liga</td>\n",
       "      <td>30</td>\n",
       "      <td>1991</td>\n",
       "      <td>6</td>\n",
       "      <td>5</td>\n",
       "      <td>405</td>\n",
       "      <td>...</td>\n",
       "      <td>0.0</td>\n",
       "      <td>4.67</td>\n",
       "      <td>2.44</td>\n",
       "      <td>0.0</td>\n",
       "      <td>0.22</td>\n",
       "      <td>0.0</td>\n",
       "      <td>8.44</td>\n",
       "      <td>2.00</td>\n",
       "      <td>0.89</td>\n",
       "      <td>69.2</td>\n",
       "    </tr>\n",
       "    <tr>\n",
       "      <th>24</th>\n",
       "      <td>Álvaro Aguado</td>\n",
       "      <td>ESP</td>\n",
       "      <td>MF</td>\n",
       "      <td>Valladolid</td>\n",
       "      <td>La Liga</td>\n",
       "      <td>26</td>\n",
       "      <td>1996</td>\n",
       "      <td>6</td>\n",
       "      <td>5</td>\n",
       "      <td>395</td>\n",
       "      <td>...</td>\n",
       "      <td>0.0</td>\n",
       "      <td>0.68</td>\n",
       "      <td>0.91</td>\n",
       "      <td>0.0</td>\n",
       "      <td>0.23</td>\n",
       "      <td>0.0</td>\n",
       "      <td>10.20</td>\n",
       "      <td>0.23</td>\n",
       "      <td>0.68</td>\n",
       "      <td>25.0</td>\n",
       "    </tr>\n",
       "    <tr>\n",
       "      <th>29</th>\n",
       "      <td>Joseph Aidoo</td>\n",
       "      <td>GHA</td>\n",
       "      <td>DF</td>\n",
       "      <td>Celta Vigo</td>\n",
       "      <td>La Liga</td>\n",
       "      <td>27</td>\n",
       "      <td>1995</td>\n",
       "      <td>7</td>\n",
       "      <td>7</td>\n",
       "      <td>630</td>\n",
       "      <td>...</td>\n",
       "      <td>0.0</td>\n",
       "      <td>0.14</td>\n",
       "      <td>1.29</td>\n",
       "      <td>0.0</td>\n",
       "      <td>0.00</td>\n",
       "      <td>0.0</td>\n",
       "      <td>9.86</td>\n",
       "      <td>1.43</td>\n",
       "      <td>2.00</td>\n",
       "      <td>41.7</td>\n",
       "    </tr>\n",
       "    <tr>\n",
       "      <th>37</th>\n",
       "      <td>Sergio Akieme</td>\n",
       "      <td>ESP</td>\n",
       "      <td>DF</td>\n",
       "      <td>Almería</td>\n",
       "      <td>La Liga</td>\n",
       "      <td>24</td>\n",
       "      <td>1997</td>\n",
       "      <td>8</td>\n",
       "      <td>8</td>\n",
       "      <td>720</td>\n",
       "      <td>...</td>\n",
       "      <td>0.0</td>\n",
       "      <td>2.25</td>\n",
       "      <td>1.63</td>\n",
       "      <td>0.0</td>\n",
       "      <td>0.00</td>\n",
       "      <td>0.0</td>\n",
       "      <td>7.63</td>\n",
       "      <td>0.50</td>\n",
       "      <td>1.00</td>\n",
       "      <td>33.3</td>\n",
       "    </tr>\n",
       "    <tr>\n",
       "      <th>39</th>\n",
       "      <td>Paul Akouokou</td>\n",
       "      <td>CIV</td>\n",
       "      <td>MF</td>\n",
       "      <td>Betis</td>\n",
       "      <td>La Liga</td>\n",
       "      <td>24</td>\n",
       "      <td>1997</td>\n",
       "      <td>4</td>\n",
       "      <td>1</td>\n",
       "      <td>117</td>\n",
       "      <td>...</td>\n",
       "      <td>0.0</td>\n",
       "      <td>0.00</td>\n",
       "      <td>2.31</td>\n",
       "      <td>0.0</td>\n",
       "      <td>0.00</td>\n",
       "      <td>0.0</td>\n",
       "      <td>9.23</td>\n",
       "      <td>0.00</td>\n",
       "      <td>1.54</td>\n",
       "      <td>0.0</td>\n",
       "    </tr>\n",
       "  </tbody>\n",
       "</table>\n",
       "<p>5 rows × 142 columns</p>\n",
       "</div>"
      ],
      "text/plain": [
       "           Player Nation Pos       Squad     Comp  Age  Born  MP  Starts  Min  \\\n",
       "10   Marcos Acuña    ARG  DF     Sevilla  La Liga   30  1991   6       5  405   \n",
       "24  Álvaro Aguado    ESP  MF  Valladolid  La Liga   26  1996   6       5  395   \n",
       "29   Joseph Aidoo    GHA  DF  Celta Vigo  La Liga   27  1995   7       7  630   \n",
       "37  Sergio Akieme    ESP  DF     Almería  La Liga   24  1997   8       8  720   \n",
       "39  Paul Akouokou    CIV  MF       Betis  La Liga   24  1997   4       1  117   \n",
       "\n",
       "    ...  Off   Crs  TklW  PKwon  PKcon   OG  Recov  AerWon  AerLost  AerWon%  \n",
       "10  ...  0.0  4.67  2.44    0.0   0.22  0.0   8.44    2.00     0.89     69.2  \n",
       "24  ...  0.0  0.68  0.91    0.0   0.23  0.0  10.20    0.23     0.68     25.0  \n",
       "29  ...  0.0  0.14  1.29    0.0   0.00  0.0   9.86    1.43     2.00     41.7  \n",
       "37  ...  0.0  2.25  1.63    0.0   0.00  0.0   7.63    0.50     1.00     33.3  \n",
       "39  ...  0.0  0.00  2.31    0.0   0.00  0.0   9.23    0.00     1.54      0.0  \n",
       "\n",
       "[5 rows x 142 columns]"
      ]
     },
     "execution_count": 81,
     "metadata": {},
     "output_type": "execute_result"
    }
   ],
   "source": [
    "c = b.drop(1226)\n",
    "\n",
    "\n",
    "c.head()"
   ]
  },
  {
   "cell_type": "markdown",
   "id": "05ea77e6",
   "metadata": {},
   "source": [
    "##### Now finding the youngest player in the league..."
   ]
  },
  {
   "cell_type": "code",
   "execution_count": 82,
   "id": "f9a870fc",
   "metadata": {},
   "outputs": [
    {
     "name": "stdout",
     "output_type": "stream",
     "text": [
      "Name of the youngest player:  Wassim Boullif\n",
      "Age of the youngest player:  17\n"
     ]
    }
   ],
   "source": [
    "youngest = c.loc[c[\"Age\"].idxmin()]\n",
    "\n",
    "print(\"Name of the youngest player: \", youngest['Player'])\n",
    "print(\"Age of the youngest player: \", youngest['Age'])"
   ]
  },
  {
   "cell_type": "markdown",
   "id": "27b6eba1",
   "metadata": {},
   "source": [
    "#### Top 5 Goal Scorers in La Liga.\n"
   ]
  },
  {
   "cell_type": "code",
   "execution_count": 83,
   "id": "ee4b4a70",
   "metadata": {
    "scrolled": true
   },
   "outputs": [
    {
     "name": "stdout",
     "output_type": "stream",
     "text": [
      "                  Player            Squad Pos  Goals Nation\n",
      "889       Gorka Guruzeta    Athletic Club  FW   1.67    ESP\n",
      "1211  Robert Lewandowski        Barcelona  FW   1.50    POL\n",
      "463         Ángel Correa  Atlético Madrid  FW   1.20    ARG\n",
      "1816          Umar Sadiq    Real Sociedad  FW   1.11    NGA\n",
      "981       Borja Iglesias            Betis  FW   1.00    ESP\n"
     ]
    }
   ],
   "source": [
    "Goal_scorer = c.nlargest(5, ['Goals'])\n",
    "\n",
    "g_a = Goal_scorer['Player']\n",
    "\n",
    "g_b =  Goal_scorer['Squad']\n",
    "\n",
    "g_c = Goal_scorer['Pos']\n",
    "\n",
    "g_d = Goal_scorer[\"Goals\"]\n",
    "\n",
    "g_e = Goal_scorer[\"Nation\"]\n",
    "\n",
    "Goal_scorer_df = pd.concat([g_a,g_b,g_c,g_d,g_e],axis=1)\n",
    "\n",
    "\n",
    "print(Goal_scorer_df)"
   ]
  },
  {
   "cell_type": "markdown",
   "id": "528a189b",
   "metadata": {},
   "source": [
    "#### Top 5 players with most Assists in La Liga."
   ]
  },
  {
   "cell_type": "code",
   "execution_count": 84,
   "id": "b895e380",
   "metadata": {},
   "outputs": [
    {
     "name": "stdout",
     "output_type": "stream",
     "text": [
      "               Player          Squad Nation   Pos  Assists\n",
      "1449     Jon Morcillo  Athletic Club    ESP  FWDF     2.50\n",
      "702         Ansu Fati      Barcelona    ESP    FW     1.20\n",
      "1379   Gonzalo Melero        Almería    ESP    MF     1.00\n",
      "671      Adri Embarba        Almería    ESP    FW     0.91\n",
      "57    Mohamed Ali Cho  Real Sociedad    FRA    FW     0.80\n"
     ]
    }
   ],
   "source": [
    "assist = c.nlargest(5, ['Assists'])\n",
    "\n",
    "aa_a = assist['Player']\n",
    "\n",
    "aa_b =  assist['Squad']\n",
    "\n",
    "aa_c =  assist[\"Nation\"]\n",
    "\n",
    "aa_d = assist['Pos']\n",
    "\n",
    "aa_e = assist[\"Assists\"]\n",
    "\n",
    "assist_df = pd.concat([aa_a,aa_b,aa_c,aa_d,aa_e],axis=1)\n",
    "\n",
    "\n",
    "print(assist_df)"
   ]
  },
  {
   "cell_type": "markdown",
   "id": "0d6124e2",
   "metadata": {},
   "source": [
    "#### Top 5 Players with most Dribbles completed successfully in La Liga."
   ]
  },
  {
   "cell_type": "code",
   "execution_count": 85,
   "id": "e18d151e",
   "metadata": {},
   "outputs": [
    {
     "name": "stdout",
     "output_type": "stream",
     "text": [
      "               Player       Squad Nation   Pos  DriSucc\n",
      "379            Casals      Girona    ESP  FWMF     20.0\n",
      "1091           Kenedy  Valladolid    BRA    MF     10.0\n",
      "1634  Francisco Perez    Valencia    ESP  DFFW     10.0\n",
      "1770  Ángel Rodríguez    Mallorca    ESP    MF     10.0\n",
      "109    Roberto Arroyo  Valladolid    ESP    MF      5.0\n"
     ]
    }
   ],
   "source": [
    "Dribbles = c.nlargest(5, ['DriSucc'])\n",
    "d_a = Dribbles['Player']\n",
    "\n",
    "d_b =  Dribbles['Squad']\n",
    "\n",
    "d_c =  Dribbles[\"Nation\"]\n",
    "\n",
    "d_d = Dribbles['Pos']\n",
    "\n",
    "d_e = Dribbles[\"DriSucc\"]\n",
    "\n",
    "Dribbles_df = pd.concat([d_a,d_b,d_c,d_d,d_e],axis=1)\n",
    "\n",
    "\n",
    "print(Dribbles_df)"
   ]
  },
  {
   "cell_type": "markdown",
   "id": "cc0465b6",
   "metadata": {},
   "source": [
    "#### Top 5 players most Tackles won in La Liga."
   ]
  },
  {
   "cell_type": "code",
   "execution_count": 86,
   "id": "2ac282b8",
   "metadata": {},
   "outputs": [
    {
     "name": "stdout",
     "output_type": "stream",
     "text": [
      "             Player          Squad Nation   Pos  TklWon\n",
      "1254     Pol Lozano       Espanyol    ESP    MF   10.00\n",
      "1455    Loren Morón          Betis    ESP  FWMF   10.00\n",
      "1591  Aitor Paredes  Athletic Club    ESP  DFFW    6.67\n",
      "488    Braian Cufré       Mallorca    ARG    DF    5.00\n",
      "788   Sékou Gassama     Valladolid    SEN    FW    5.00\n"
     ]
    }
   ],
   "source": [
    "tackle = c.nlargest(5, ['TklWon'])\n",
    "\n",
    "t_a = tackle['Player']\n",
    "\n",
    "t_b =  tackle['Squad']\n",
    "\n",
    "t_c = tackle[\"Nation\"]\n",
    "\n",
    "t_d = tackle['Pos']\n",
    "\n",
    "t_e = tackle[\"TklWon\"]\n",
    "\n",
    "tackle_df = pd.concat([t_a,t_b,t_c,t_d,t_e],axis=1)\n",
    "\n",
    "\n",
    "print(tackle_df)"
   ]
  },
  {
   "cell_type": "markdown",
   "id": "a5bf27a2",
   "metadata": {},
   "source": [
    "#### Top 5 players with the most yellow cards in La Liga."
   ]
  },
  {
   "cell_type": "code",
   "execution_count": 87,
   "id": "2be860ab",
   "metadata": {},
   "outputs": [
    {
     "name": "stdout",
     "output_type": "stream",
     "text": [
      "                 Player     Squad Nation   Pos   CrdY\n",
      "1782        Iván Romero   Sevilla    ESP    MF  10.00\n",
      "1415  Marko Milovanovi?   Almería    SRB    FW   5.00\n",
      "1455        Loren Morón     Betis    ESP  FWMF   5.00\n",
      "1634    Francisco Perez  Valencia    ESP  DFFW   5.00\n",
      "820          Dani Gómez  Espanyol    ESP  MFFW   3.33\n"
     ]
    }
   ],
   "source": [
    "yellow_card = c.nlargest(5, ['CrdY'])\n",
    "\n",
    "yc_a = yellow_card['Player']\n",
    "\n",
    "yc_b =  yellow_card['Squad']\n",
    "\n",
    "yc_c = yellow_card[\"Nation\"]\n",
    "\n",
    "yc_d = yellow_card['Pos']\n",
    "\n",
    "yc_e = yellow_card[\"CrdY\"]\n",
    "\n",
    "\n",
    "yellow_card_df = pd.concat([yc_a,yc_b,yc_c,yc_d,yc_e],axis=1)\n",
    "\n",
    "\n",
    "print(yellow_card_df)"
   ]
  },
  {
   "cell_type": "markdown",
   "id": "e9b53a3c",
   "metadata": {},
   "source": [
    "#### Top 5 players with the most red cards in La Liga."
   ]
  },
  {
   "cell_type": "code",
   "execution_count": 88,
   "id": "cad21874",
   "metadata": {},
   "outputs": [
    {
     "name": "stdout",
     "output_type": "stream",
     "text": [
      "              Player            Squad Nation Pos   CrdR\n",
      "2124   Gonzalo Verdú            Elche    ESP  DF  10.00\n",
      "940    Ander Herrera    Athletic Club    ESP  MF   1.11\n",
      "935    Mario Hermoso  Atlético Madrid    ESP  DF   0.77\n",
      "1411      Luis Milla           Getafe    ESP  MF   0.77\n",
      "2196  Jawad El Yamiq       Valladolid    MAR  DF   0.71\n"
     ]
    }
   ],
   "source": [
    "red_card = c.nlargest(5, ['CrdR'])\n",
    "\n",
    "rc_a = red_card['Player']\n",
    "\n",
    "rc_b =  red_card['Squad']\n",
    "\n",
    "rc_c = red_card[\"Nation\"]\n",
    "\n",
    "rc_d = red_card['Pos']\n",
    "\n",
    "rc_e = red_card[\"CrdR\"]\n",
    "\n",
    "red_card_df = pd.concat([rc_a,rc_b,rc_c,rc_d,rc_e],axis=1)\n",
    "\n",
    "\n",
    "print(red_card_df)"
   ]
  },
  {
   "cell_type": "markdown",
   "id": "e9268b74",
   "metadata": {},
   "source": [
    "#### Player with most Own goals in La Liga."
   ]
  },
  {
   "cell_type": "code",
   "execution_count": 89,
   "id": "8076dadf",
   "metadata": {
    "scrolled": true
   },
   "outputs": [
    {
     "name": "stdout",
     "output_type": "stream",
     "text": [
      "Nicolás Ezequiel Fernández\n"
     ]
    }
   ],
   "source": [
    "OG = c.loc[c[\"OG\"].idxmax()]\n",
    "\n",
    "\n",
    "print (OG[\"Player\"])"
   ]
  },
  {
   "cell_type": "markdown",
   "id": "395f2733",
   "metadata": {},
   "source": [
    "#### Player with most nutmegs in La Liga."
   ]
  },
  {
   "cell_type": "code",
   "execution_count": 90,
   "id": "270e1a13",
   "metadata": {},
   "outputs": [
    {
     "name": "stdout",
     "output_type": "stream",
     "text": [
      "José Carlos Lazo\n"
     ]
    }
   ],
   "source": [
    "Megs = c.loc[c[\"DriMegs\"].idxmax()]\n",
    "\n",
    "\n",
    "print (Megs[\"Player\"])"
   ]
  },
  {
   "cell_type": "markdown",
   "id": "bf825ef1",
   "metadata": {},
   "source": [
    "#### Bar Graph of the age of the players in La Liga."
   ]
  },
  {
   "cell_type": "code",
   "execution_count": 91,
   "id": "d38fff5f",
   "metadata": {},
   "outputs": [
    {
     "data": {
      "image/png": "[encoded data removed]",
      "text/plain": [
       "<Figure size 432x288 with 1 Axes>"
      ]
     },
     "metadata": {
      "needs_background": "light"
     },
     "output_type": "display_data"
    }
   ],
   "source": [
    "h = c[\"Age\"]\n",
    "cnt = Counter(h)\n",
    "\n",
    "## Sorting the items in the dictionary in accesseding order.\n",
    "sort_cnt = sorted(cnt.items())\n",
    "sort_cnt_dict = dict(sort_cnt)\n",
    "\n",
    "## Seprating the keys and values into another variable.\n",
    "keys = sort_cnt_dict.keys()\n",
    "values = sort_cnt_dict.values()\n",
    "\n",
    "plt.bar(keys, values, width = 0.8)\n",
    "plt.title(\"Player's age Bar Graph\")\n",
    "plt.xlabel(\"Age\")\n",
    "plt.ylabel(\"Occurance\")\n",
    "\n",
    "plt.xticks([17,19,21,23,25,27,29,31,33,35,37,39,41])\n",
    "plt.yticks([0,4,8,12,16,20,24,28,32,36,40])\n",
    "\n",
    "\n",
    "\n",
    "plt.show()"
   ]
  },
  {
   "cell_type": "markdown",
   "id": "68f853ed",
   "metadata": {},
   "source": [
    "#### Pie chart of National and Foreign in La Liga."
   ]
  },
  {
   "cell_type": "code",
   "execution_count": 92,
   "id": "9afb1f29",
   "metadata": {},
   "outputs": [
    {
     "name": "stdout",
     "output_type": "stream",
     "text": [
      "Percentage of National Players:  55.91 %\n",
      "Percentage of Foreign Players:  44.09 %\n"
     ]
    },
    {
     "data": {
      "image/png": "[encoded data removed]",
      "text/plain": [
       "<Figure size 432x288 with 1 Axes>"
      ]
     },
     "metadata": {},
     "output_type": "display_data"
    }
   ],
   "source": [
    "F = c[\"Nation\"]\n",
    "cntF = Counter(F)\n",
    "\n",
    "# Removing the item where Nation is spain from the dictionary. \n",
    "r_National = cntF.pop('ESP')\n",
    "sum_of = sum(cntF.values())\n",
    "\n",
    "N_per = r_National/(r_National+sum_of)*100\n",
    "N_per = round(N_per,2)\n",
    "print(\"Percentage of National Players: \", N_per,\"%\")\n",
    "\n",
    "s_per = sum_of/(r_National+sum_of) * 100\n",
    "s_per = round(s_per,2)\n",
    "print(\"Percentage of Foreign Players: \", s_per,\"%\")\n",
    "\n",
    "label = [\"National Players (55.91%) \",\"Foreign players (44.09%)\" ]\n",
    "plt.pie([r_National, sum_of],labels = label, colors = [\"Blue\",\"Red\"])\n",
    "\n",
    "\n",
    "plt.show()"
   ]
  },
  {
   "cell_type": "markdown",
   "id": "9f9151a8",
   "metadata": {},
   "source": [
    "# Ligue 1, 2022-2023 Football player stats.\n"
   ]
  },
  {
   "cell_type": "markdown",
   "id": "4ecf8810",
   "metadata": {},
   "source": [
    "#### Making a DataFrame of only Ligue 1 players."
   ]
  },
  {
   "cell_type": "code",
   "execution_count": 93,
   "id": "b3a406c3",
   "metadata": {},
   "outputs": [
    {
     "data": {
      "text/html": [
       "<div>\n",
       "<style scoped>\n",
       "    .dataframe tbody tr th:only-of-type {\n",
       "        vertical-align: middle;\n",
       "    }\n",
       "\n",
       "    .dataframe tbody tr th {\n",
       "        vertical-align: top;\n",
       "    }\n",
       "\n",
       "    .dataframe thead th {\n",
       "        text-align: right;\n",
       "    }\n",
       "</style>\n",
       "<table border=\"1\" class=\"dataframe\">\n",
       "  <thead>\n",
       "    <tr style=\"text-align: right;\">\n",
       "      <th></th>\n",
       "      <th>S.No</th>\n",
       "      <th>Player</th>\n",
       "      <th>Nation</th>\n",
       "      <th>Pos</th>\n",
       "      <th>Squad</th>\n",
       "      <th>Comp</th>\n",
       "      <th>Age</th>\n",
       "      <th>Born</th>\n",
       "      <th>MP</th>\n",
       "      <th>Starts</th>\n",
       "      <th>...</th>\n",
       "      <th>Off</th>\n",
       "      <th>Crs</th>\n",
       "      <th>TklW</th>\n",
       "      <th>PKwon</th>\n",
       "      <th>PKcon</th>\n",
       "      <th>OG</th>\n",
       "      <th>Recov</th>\n",
       "      <th>AerWon</th>\n",
       "      <th>AerLost</th>\n",
       "      <th>AerWon%</th>\n",
       "    </tr>\n",
       "  </thead>\n",
       "  <tbody>\n",
       "    <tr>\n",
       "      <th>1</th>\n",
       "      <td>2</td>\n",
       "      <td>Yunis Abdelhamid</td>\n",
       "      <td>MAR</td>\n",
       "      <td>DF</td>\n",
       "      <td>Reims</td>\n",
       "      <td>Ligue 1</td>\n",
       "      <td>35</td>\n",
       "      <td>1987</td>\n",
       "      <td>10</td>\n",
       "      <td>10</td>\n",
       "      <td>...</td>\n",
       "      <td>0.00</td>\n",
       "      <td>0.20</td>\n",
       "      <td>1.30</td>\n",
       "      <td>0.0</td>\n",
       "      <td>0.0</td>\n",
       "      <td>0.0</td>\n",
       "      <td>8.50</td>\n",
       "      <td>2.00</td>\n",
       "      <td>0.70</td>\n",
       "      <td>74.1</td>\n",
       "    </tr>\n",
       "    <tr>\n",
       "      <th>2</th>\n",
       "      <td>3</td>\n",
       "      <td>Himad Abdelli</td>\n",
       "      <td>FRA</td>\n",
       "      <td>MF</td>\n",
       "      <td>Angers</td>\n",
       "      <td>Ligue 1</td>\n",
       "      <td>22</td>\n",
       "      <td>1999</td>\n",
       "      <td>3</td>\n",
       "      <td>0</td>\n",
       "      <td>...</td>\n",
       "      <td>0.00</td>\n",
       "      <td>0.00</td>\n",
       "      <td>0.00</td>\n",
       "      <td>0.0</td>\n",
       "      <td>0.0</td>\n",
       "      <td>0.0</td>\n",
       "      <td>10.00</td>\n",
       "      <td>0.00</td>\n",
       "      <td>3.33</td>\n",
       "      <td>0.0</td>\n",
       "    </tr>\n",
       "    <tr>\n",
       "      <th>3</th>\n",
       "      <td>4</td>\n",
       "      <td>Salis Abdul Samed</td>\n",
       "      <td>GHA</td>\n",
       "      <td>MF</td>\n",
       "      <td>Lens</td>\n",
       "      <td>Ligue 1</td>\n",
       "      <td>22</td>\n",
       "      <td>2000</td>\n",
       "      <td>9</td>\n",
       "      <td>9</td>\n",
       "      <td>...</td>\n",
       "      <td>0.00</td>\n",
       "      <td>0.44</td>\n",
       "      <td>1.11</td>\n",
       "      <td>0.0</td>\n",
       "      <td>0.0</td>\n",
       "      <td>0.0</td>\n",
       "      <td>7.89</td>\n",
       "      <td>0.44</td>\n",
       "      <td>0.78</td>\n",
       "      <td>36.4</td>\n",
       "    </tr>\n",
       "    <tr>\n",
       "      <th>4</th>\n",
       "      <td>5</td>\n",
       "      <td>Laurent Abergel</td>\n",
       "      <td>FRA</td>\n",
       "      <td>MF</td>\n",
       "      <td>Lorient</td>\n",
       "      <td>Ligue 1</td>\n",
       "      <td>29</td>\n",
       "      <td>1993</td>\n",
       "      <td>9</td>\n",
       "      <td>9</td>\n",
       "      <td>...</td>\n",
       "      <td>0.00</td>\n",
       "      <td>0.11</td>\n",
       "      <td>2.41</td>\n",
       "      <td>0.0</td>\n",
       "      <td>0.0</td>\n",
       "      <td>0.0</td>\n",
       "      <td>6.67</td>\n",
       "      <td>0.57</td>\n",
       "      <td>0.34</td>\n",
       "      <td>62.5</td>\n",
       "    </tr>\n",
       "    <tr>\n",
       "      <th>5</th>\n",
       "      <td>6</td>\n",
       "      <td>Matthis Abline</td>\n",
       "      <td>FRA</td>\n",
       "      <td>FWMF</td>\n",
       "      <td>Rennes</td>\n",
       "      <td>Ligue 1</td>\n",
       "      <td>19</td>\n",
       "      <td>2003</td>\n",
       "      <td>6</td>\n",
       "      <td>0</td>\n",
       "      <td>...</td>\n",
       "      <td>1.11</td>\n",
       "      <td>3.33</td>\n",
       "      <td>1.11</td>\n",
       "      <td>0.0</td>\n",
       "      <td>0.0</td>\n",
       "      <td>0.0</td>\n",
       "      <td>6.67</td>\n",
       "      <td>3.33</td>\n",
       "      <td>2.22</td>\n",
       "      <td>60.0</td>\n",
       "    </tr>\n",
       "  </tbody>\n",
       "</table>\n",
       "<p>5 rows × 143 columns</p>\n",
       "</div>"
      ],
      "text/plain": [
       "   S.No             Player Nation   Pos    Squad     Comp  Age  Born  MP  \\\n",
       "1     2   Yunis Abdelhamid    MAR    DF    Reims  Ligue 1   35  1987  10   \n",
       "2     3      Himad Abdelli    FRA    MF   Angers  Ligue 1   22  1999   3   \n",
       "3     4  Salis Abdul Samed    GHA    MF     Lens  Ligue 1   22  2000   9   \n",
       "4     5    Laurent Abergel    FRA    MF  Lorient  Ligue 1   29  1993   9   \n",
       "5     6     Matthis Abline    FRA  FWMF   Rennes  Ligue 1   19  2003   6   \n",
       "\n",
       "   Starts  ...   Off   Crs  TklW  PKwon  PKcon   OG  Recov  AerWon  AerLost  \\\n",
       "1      10  ...  0.00  0.20  1.30    0.0    0.0  0.0   8.50    2.00     0.70   \n",
       "2       0  ...  0.00  0.00  0.00    0.0    0.0  0.0  10.00    0.00     3.33   \n",
       "3       9  ...  0.00  0.44  1.11    0.0    0.0  0.0   7.89    0.44     0.78   \n",
       "4       9  ...  0.00  0.11  2.41    0.0    0.0  0.0   6.67    0.57     0.34   \n",
       "5       0  ...  1.11  3.33  1.11    0.0    0.0  0.0   6.67    3.33     2.22   \n",
       "\n",
       "   AerWon%  \n",
       "1     74.1  \n",
       "2      0.0  \n",
       "3     36.4  \n",
       "4     62.5  \n",
       "5     60.0  \n",
       "\n",
       "[5 rows x 143 columns]"
      ]
     },
     "execution_count": 93,
     "metadata": {},
     "output_type": "execute_result"
    }
   ],
   "source": [
    "Ligue_1 = df.loc[df.Comp == \"Ligue 1\"]\n",
    "\n",
    "\n",
    "Ligue_1.head()"
   ]
  },
  {
   "cell_type": "markdown",
   "id": "02eb4b99",
   "metadata": {},
   "source": [
    "#### Deleting S.No column from DataFrame."
   ]
  },
  {
   "cell_type": "code",
   "execution_count": 94,
   "id": "45561a0a",
   "metadata": {},
   "outputs": [
    {
     "data": {
      "text/html": [
       "<div>\n",
       "<style scoped>\n",
       "    .dataframe tbody tr th:only-of-type {\n",
       "        vertical-align: middle;\n",
       "    }\n",
       "\n",
       "    .dataframe tbody tr th {\n",
       "        vertical-align: top;\n",
       "    }\n",
       "\n",
       "    .dataframe thead th {\n",
       "        text-align: right;\n",
       "    }\n",
       "</style>\n",
       "<table border=\"1\" class=\"dataframe\">\n",
       "  <thead>\n",
       "    <tr style=\"text-align: right;\">\n",
       "      <th></th>\n",
       "      <th>Player</th>\n",
       "      <th>Nation</th>\n",
       "      <th>Pos</th>\n",
       "      <th>Squad</th>\n",
       "      <th>Comp</th>\n",
       "      <th>Age</th>\n",
       "      <th>Born</th>\n",
       "      <th>MP</th>\n",
       "      <th>Starts</th>\n",
       "      <th>Min</th>\n",
       "      <th>...</th>\n",
       "      <th>Off</th>\n",
       "      <th>Crs</th>\n",
       "      <th>TklW</th>\n",
       "      <th>PKwon</th>\n",
       "      <th>PKcon</th>\n",
       "      <th>OG</th>\n",
       "      <th>Recov</th>\n",
       "      <th>AerWon</th>\n",
       "      <th>AerLost</th>\n",
       "      <th>AerWon%</th>\n",
       "    </tr>\n",
       "  </thead>\n",
       "  <tbody>\n",
       "    <tr>\n",
       "      <th>1</th>\n",
       "      <td>Yunis Abdelhamid</td>\n",
       "      <td>MAR</td>\n",
       "      <td>DF</td>\n",
       "      <td>Reims</td>\n",
       "      <td>Ligue 1</td>\n",
       "      <td>35</td>\n",
       "      <td>1987</td>\n",
       "      <td>10</td>\n",
       "      <td>10</td>\n",
       "      <td>900</td>\n",
       "      <td>...</td>\n",
       "      <td>0.00</td>\n",
       "      <td>0.20</td>\n",
       "      <td>1.30</td>\n",
       "      <td>0.0</td>\n",
       "      <td>0.0</td>\n",
       "      <td>0.0</td>\n",
       "      <td>8.50</td>\n",
       "      <td>2.00</td>\n",
       "      <td>0.70</td>\n",
       "      <td>74.1</td>\n",
       "    </tr>\n",
       "    <tr>\n",
       "      <th>2</th>\n",
       "      <td>Himad Abdelli</td>\n",
       "      <td>FRA</td>\n",
       "      <td>MF</td>\n",
       "      <td>Angers</td>\n",
       "      <td>Ligue 1</td>\n",
       "      <td>22</td>\n",
       "      <td>1999</td>\n",
       "      <td>3</td>\n",
       "      <td>0</td>\n",
       "      <td>27</td>\n",
       "      <td>...</td>\n",
       "      <td>0.00</td>\n",
       "      <td>0.00</td>\n",
       "      <td>0.00</td>\n",
       "      <td>0.0</td>\n",
       "      <td>0.0</td>\n",
       "      <td>0.0</td>\n",
       "      <td>10.00</td>\n",
       "      <td>0.00</td>\n",
       "      <td>3.33</td>\n",
       "      <td>0.0</td>\n",
       "    </tr>\n",
       "    <tr>\n",
       "      <th>3</th>\n",
       "      <td>Salis Abdul Samed</td>\n",
       "      <td>GHA</td>\n",
       "      <td>MF</td>\n",
       "      <td>Lens</td>\n",
       "      <td>Ligue 1</td>\n",
       "      <td>22</td>\n",
       "      <td>2000</td>\n",
       "      <td>9</td>\n",
       "      <td>9</td>\n",
       "      <td>810</td>\n",
       "      <td>...</td>\n",
       "      <td>0.00</td>\n",
       "      <td>0.44</td>\n",
       "      <td>1.11</td>\n",
       "      <td>0.0</td>\n",
       "      <td>0.0</td>\n",
       "      <td>0.0</td>\n",
       "      <td>7.89</td>\n",
       "      <td>0.44</td>\n",
       "      <td>0.78</td>\n",
       "      <td>36.4</td>\n",
       "    </tr>\n",
       "    <tr>\n",
       "      <th>4</th>\n",
       "      <td>Laurent Abergel</td>\n",
       "      <td>FRA</td>\n",
       "      <td>MF</td>\n",
       "      <td>Lorient</td>\n",
       "      <td>Ligue 1</td>\n",
       "      <td>29</td>\n",
       "      <td>1993</td>\n",
       "      <td>9</td>\n",
       "      <td>9</td>\n",
       "      <td>783</td>\n",
       "      <td>...</td>\n",
       "      <td>0.00</td>\n",
       "      <td>0.11</td>\n",
       "      <td>2.41</td>\n",
       "      <td>0.0</td>\n",
       "      <td>0.0</td>\n",
       "      <td>0.0</td>\n",
       "      <td>6.67</td>\n",
       "      <td>0.57</td>\n",
       "      <td>0.34</td>\n",
       "      <td>62.5</td>\n",
       "    </tr>\n",
       "    <tr>\n",
       "      <th>5</th>\n",
       "      <td>Matthis Abline</td>\n",
       "      <td>FRA</td>\n",
       "      <td>FWMF</td>\n",
       "      <td>Rennes</td>\n",
       "      <td>Ligue 1</td>\n",
       "      <td>19</td>\n",
       "      <td>2003</td>\n",
       "      <td>6</td>\n",
       "      <td>0</td>\n",
       "      <td>84</td>\n",
       "      <td>...</td>\n",
       "      <td>1.11</td>\n",
       "      <td>3.33</td>\n",
       "      <td>1.11</td>\n",
       "      <td>0.0</td>\n",
       "      <td>0.0</td>\n",
       "      <td>0.0</td>\n",
       "      <td>6.67</td>\n",
       "      <td>3.33</td>\n",
       "      <td>2.22</td>\n",
       "      <td>60.0</td>\n",
       "    </tr>\n",
       "  </tbody>\n",
       "</table>\n",
       "<p>5 rows × 142 columns</p>\n",
       "</div>"
      ],
      "text/plain": [
       "              Player Nation   Pos    Squad     Comp  Age  Born  MP  Starts  \\\n",
       "1   Yunis Abdelhamid    MAR    DF    Reims  Ligue 1   35  1987  10      10   \n",
       "2      Himad Abdelli    FRA    MF   Angers  Ligue 1   22  1999   3       0   \n",
       "3  Salis Abdul Samed    GHA    MF     Lens  Ligue 1   22  2000   9       9   \n",
       "4    Laurent Abergel    FRA    MF  Lorient  Ligue 1   29  1993   9       9   \n",
       "5     Matthis Abline    FRA  FWMF   Rennes  Ligue 1   19  2003   6       0   \n",
       "\n",
       "   Min  ...   Off   Crs  TklW  PKwon  PKcon   OG  Recov  AerWon  AerLost  \\\n",
       "1  900  ...  0.00  0.20  1.30    0.0    0.0  0.0   8.50    2.00     0.70   \n",
       "2   27  ...  0.00  0.00  0.00    0.0    0.0  0.0  10.00    0.00     3.33   \n",
       "3  810  ...  0.00  0.44  1.11    0.0    0.0  0.0   7.89    0.44     0.78   \n",
       "4  783  ...  0.00  0.11  2.41    0.0    0.0  0.0   6.67    0.57     0.34   \n",
       "5   84  ...  1.11  3.33  1.11    0.0    0.0  0.0   6.67    3.33     2.22   \n",
       "\n",
       "   AerWon%  \n",
       "1     74.1  \n",
       "2      0.0  \n",
       "3     36.4  \n",
       "4     62.5  \n",
       "5     60.0  \n",
       "\n",
       "[5 rows x 142 columns]"
      ]
     },
     "execution_count": 94,
     "metadata": {},
     "output_type": "execute_result"
    }
   ],
   "source": [
    "Ligue_1_b = Ligue_1.drop('S.No', axis = 1)\n",
    "\n",
    "\n",
    "Ligue_1_b.head()"
   ]
  },
  {
   "cell_type": "markdown",
   "id": "d896334b",
   "metadata": {},
   "source": [
    "#### Average age of players in Ligue 1."
   ]
  },
  {
   "cell_type": "code",
   "execution_count": 95,
   "id": "6a2101e8",
   "metadata": {},
   "outputs": [
    {
     "name": "stdout",
     "output_type": "stream",
     "text": [
      "Average age of player is:  25\n"
     ]
    }
   ],
   "source": [
    "av_age = int(Ligue_1_b[\"Age\"].mean())\n",
    "\n",
    "\n",
    "print(\"Average age of player is: \", av_age)"
   ]
  },
  {
   "cell_type": "markdown",
   "id": "188062ed",
   "metadata": {},
   "source": [
    "#### Oldest player in Ligue 1."
   ]
  },
  {
   "cell_type": "code",
   "execution_count": 96,
   "id": "587a9158",
   "metadata": {},
   "outputs": [
    {
     "name": "stdout",
     "output_type": "stream",
     "text": [
      "Name of the oldest player:  Dante \n",
      "\n",
      "Age of the oldest player:  38\n"
     ]
    }
   ],
   "source": [
    "oldest = Ligue_1_b.loc[Ligue_1_b[\"Age\"].idxmax()]\n",
    "\n",
    "\n",
    "print(\"Name of the oldest player: \", oldest['Player'],\"\\n\")\n",
    "print(\"Age of the oldest player: \", oldest['Age'])"
   ]
  },
  {
   "cell_type": "markdown",
   "id": "1408ff49",
   "metadata": {},
   "source": [
    "#### Youngest player in Ligue 1."
   ]
  },
  {
   "cell_type": "code",
   "execution_count": 97,
   "id": "eca9ed58",
   "metadata": {},
   "outputs": [
    {
     "name": "stdout",
     "output_type": "stream",
     "text": [
      "Name of the youngest player:  Leny Yoro \n",
      "\n",
      "Age of the youngest player:  16\n"
     ]
    }
   ],
   "source": [
    "youngest = Ligue_1_b.loc[Ligue_1_b[\"Age\"].idxmin()]\n",
    "\n",
    "\n",
    "print(\"Name of the youngest player: \", youngest['Player'],\"\\n\")\n",
    "print(\"Age of the youngest player: \", youngest['Age'])"
   ]
  },
  {
   "cell_type": "markdown",
   "id": "50071498",
   "metadata": {},
   "source": [
    "#### Top 5 Goal Scorers in Ligue 1."
   ]
  },
  {
   "cell_type": "code",
   "execution_count": 98,
   "id": "5d5ca3da",
   "metadata": {},
   "outputs": [
    {
     "name": "stdout",
     "output_type": "stream",
     "text": [
      "                   Player     Squad   Pos  Goals Nation\n",
      "392        Yoann Cathline   Lorient    FW   2.50    FRA\n",
      "529   Romain Del Castillo     Brest    MF   1.67    FRA\n",
      "590          Sofiane Diop    Monaco    MF   1.43    FRA\n",
      "918           Rhys Healey  Toulouse    FW   1.43    WAL\n",
      "1818          Wesley Saïd      Lens  FWMF   1.33    FRA\n"
     ]
    }
   ],
   "source": [
    "Goal_scorer = Ligue_1_b.nlargest(5, ['Goals'])\n",
    "\n",
    "g_a = Goal_scorer['Player']\n",
    "\n",
    "g_b =  Goal_scorer['Squad']\n",
    "\n",
    "g_c = Goal_scorer['Pos']\n",
    "\n",
    "g_d = Goal_scorer[\"Goals\"]\n",
    "\n",
    "g_e = Goal_scorer[\"Nation\"]\n",
    "\n",
    "Goal_scorer_df = pd.concat([g_a,g_b,g_c,g_d,g_e],axis=1)\n",
    "\n",
    "\n",
    "print(Goal_scorer_df)"
   ]
  },
  {
   "cell_type": "markdown",
   "id": "2f76c511",
   "metadata": {},
   "source": [
    "#### Top 5 players with most Assists in Ligue 1."
   ]
  },
  {
   "cell_type": "code",
   "execution_count": 99,
   "id": "cf537067",
   "metadata": {},
   "outputs": [
    {
     "name": "stdout",
     "output_type": "stream",
     "text": [
      "               Player        Squad Nation   Pos  Assists\n",
      "1593  Leandro Paredes    Paris S-G    ARG    MF     1.67\n",
      "151    Cédric Bakambu    Marseille    COD    MF     1.43\n",
      "412      Rayan Cherki         Lyon    FRA  MFFW     1.43\n",
      "325      Rémy Cabella        Lille    FRA    MF     1.29\n",
      "703      Khalil Fayad  Montpellier    FRA  MFFW     1.25\n"
     ]
    }
   ],
   "source": [
    "assist = Ligue_1_b.nlargest(5, ['Assists'])\n",
    "\n",
    "\n",
    "aa_a = assist['Player']\n",
    "\n",
    "aa_b =  assist['Squad']\n",
    "\n",
    "aa_c =  assist[\"Nation\"]\n",
    "\n",
    "aa_d = assist['Pos']\n",
    "\n",
    "aa_e = assist[\"Assists\"]\n",
    "\n",
    "assist_df = pd.concat([aa_a,aa_b,aa_c,aa_d,aa_e],axis=1)\n",
    "\n",
    "\n",
    "print(assist_df)"
   ]
  },
  {
   "cell_type": "markdown",
   "id": "e664b202",
   "metadata": {},
   "source": [
    "#### Top 5 Players with most Dribbles completed successfully in Ligue 1."
   ]
  },
  {
   "cell_type": "code",
   "execution_count": 100,
   "id": "fe572c97",
   "metadata": {},
   "outputs": [
    {
     "name": "stdout",
     "output_type": "stream",
     "text": [
      "               Player    Squad Nation   Pos  DriSucc\n",
      "9        Mohamed Achi   Nantes    FRA    MF     7.50\n",
      "1369  Nathanael Mbuku    Reims    FRA  MFDF     7.50\n",
      "607       Jeremy Doku   Rennes    BEL  FWMF     7.06\n",
      "2       Himad Abdelli   Angers    FRA    MF     6.67\n",
      "392    Yoann Cathline  Lorient    FRA    FW     5.00\n"
     ]
    }
   ],
   "source": [
    "Dribbles = Ligue_1_b.nlargest(5, ['DriSucc'])\n",
    "\n",
    "d_a = Dribbles['Player']\n",
    "\n",
    "\n",
    "d_b =  Dribbles['Squad']\n",
    "\n",
    "d_c =  Dribbles[\"Nation\"]\n",
    "\n",
    "d_d = Dribbles['Pos']\n",
    "\n",
    "d_e = Dribbles[\"DriSucc\"]\n",
    "\n",
    "Dribbles_df = pd.concat([d_a,d_b,d_c,d_d,d_e],axis=1)\n",
    "\n",
    "\n",
    "print(Dribbles_df)"
   ]
  },
  {
   "cell_type": "markdown",
   "id": "5b724a39",
   "metadata": {},
   "source": [
    "#### Top 5 players most Tackles won in Ligue 1."
   ]
  },
  {
   "cell_type": "code",
   "execution_count": 101,
   "id": "90185611",
   "metadata": {},
   "outputs": [
    {
     "name": "stdout",
     "output_type": "stream",
     "text": [
      "               Player       Squad Nation   Pos  TklWon\n",
      "620    Ckene Doucouré     Lorient    COM    FW   10.00\n",
      "1069   Nordine Kandil  Strasbourg    FRA  MFFW    7.50\n",
      "2200    Darlin Yongwa     Lorient    CMR  FWDF    7.50\n",
      "565   Ibrahim Diakité       Reims    GUI  DFMF    6.67\n",
      "70     Ibrahim Amadou      Angers    FRA    MF    5.00\n"
     ]
    }
   ],
   "source": [
    "tackle = Ligue_1_b.nlargest(5, ['TklWon'])\n",
    "\n",
    "\n",
    "t_a = tackle['Player']\n",
    "\n",
    "t_b =  tackle['Squad']\n",
    "\n",
    "t_c = tackle[\"Nation\"]\n",
    "\n",
    "t_d = tackle['Pos']\n",
    "\n",
    "t_e = tackle[\"TklWon\"]\n",
    "\n",
    "tackle_df = pd.concat([t_a,t_b,t_c,t_d,t_e],axis=1)\n",
    "\n",
    "\n",
    "print(tackle_df)"
   ]
  },
  {
   "cell_type": "markdown",
   "id": "db82116d",
   "metadata": {},
   "source": [
    "#### Top 5 players with the most yellow cards in Ligue 1."
   ]
  },
  {
   "cell_type": "code",
   "execution_count": 102,
   "id": "f8f5e472",
   "metadata": {},
   "outputs": [
    {
     "name": "stdout",
     "output_type": "stream",
     "text": [
      "                   Player          Squad Nation   Pos  CrdY\n",
      "2221        Mehdi Zeffane  Clermont Foot    ALG    DF  5.00\n",
      "795         Denis Genreau       Toulouse    AUS    MF  2.00\n",
      "2066     Souleymane Touré      Marseille    FRA    DF  2.00\n",
      "529   Romain Del Castillo          Brest    FRA    MF  1.67\n",
      "565       Ibrahim Diakité          Reims    GUI  DFMF  1.67\n"
     ]
    }
   ],
   "source": [
    "yellow_card = Ligue_1_b.nlargest(5, ['CrdY'])\n",
    "\n",
    "yc_a = yellow_card['Player']\n",
    "\n",
    "yc_b =  yellow_card['Squad']\n",
    "\n",
    "yc_c = yellow_card[\"Nation\"]\n",
    "\n",
    "yc_d = yellow_card['Pos']\n",
    "\n",
    "yc_e = yellow_card[\"CrdY\"]\n",
    "\n",
    "yellow_card_df = pd.concat([yc_a,yc_b,yc_c,yc_d,yc_e],axis=1)\n",
    "\n",
    "\n",
    "print(yellow_card_df)"
   ]
  },
  {
   "cell_type": "markdown",
   "id": "62187e31",
   "metadata": {},
   "source": [
    "#### Top 5 players with the most red cards in Ligue 1."
   ]
  },
  {
   "cell_type": "code",
   "execution_count": 103,
   "id": "212ff98c",
   "metadata": {},
   "outputs": [
    {
     "name": "stdout",
     "output_type": "stream",
     "text": [
      "              Player        Squad Nation   Pos  CrdR\n",
      "703     Khalil Fayad  Montpellier    FRA  MFFW  1.25\n",
      "907   Romain Hamouma      Ajaccio    FRA    FW  0.47\n",
      "797   Valère Germain  Montpellier    FRA  MFFW  0.45\n",
      "1532  Gerzino Nyamsi   Strasbourg    FRA    DF  0.43\n",
      "692            Fábio       Nantes    BRA    DF  0.40\n"
     ]
    }
   ],
   "source": [
    "red_card = Ligue_1_b.nlargest(5, ['CrdR'])\n",
    "rc_a = red_card['Player']\n",
    "\n",
    "rc_b =  red_card['Squad']\n",
    "\n",
    "rc_c = red_card[\"Nation\"]\n",
    "\n",
    "rc_d = red_card['Pos']\n",
    "\n",
    "rc_e = red_card[\"CrdR\"]\n",
    "\n",
    "red_card_df = pd.concat([rc_a,rc_b,rc_c,rc_d,rc_e],axis=1)\n",
    "\n",
    "\n",
    "print(red_card_df)"
   ]
  },
  {
   "cell_type": "markdown",
   "id": "df80b01a",
   "metadata": {},
   "source": [
    "#### Player with most nutmegs in Ligue 1."
   ]
  },
  {
   "cell_type": "code",
   "execution_count": 104,
   "id": "3d961ad5",
   "metadata": {},
   "outputs": [
    {
     "name": "stdout",
     "output_type": "stream",
     "text": [
      "Souleymane Touré\n"
     ]
    }
   ],
   "source": [
    "Megs = Ligue_1_b.loc[Ligue_1_b[\"DriMegs\"].idxmax()]\n",
    "\n",
    "\n",
    "print (Megs[\"Player\"])"
   ]
  },
  {
   "cell_type": "markdown",
   "id": "877ec4ad",
   "metadata": {},
   "source": [
    "#### Bar Graph of the age of the players in Ligue 1."
   ]
  },
  {
   "cell_type": "code",
   "execution_count": 105,
   "id": "a04548c2",
   "metadata": {},
   "outputs": [
    {
     "data": {
      "image/png": "[encoded data removed]",
      "text/plain": [
       "<Figure size 432x288 with 1 Axes>"
      ]
     },
     "metadata": {
      "needs_background": "light"
     },
     "output_type": "display_data"
    }
   ],
   "source": [
    "h = Ligue_1_b[\"Age\"]\n",
    "cnt = Counter(h)\n",
    "\n",
    "# Sorting the items in the dictionary in accesseding order.\n",
    "sort_cnt = sorted(cnt.items())\n",
    "sort_cnt_dict = dict(sort_cnt)\n",
    "\n",
    "# Seprating the keys and values into a another variable.\n",
    "keys = sort_cnt_dict.keys()\n",
    "values = sort_cnt_dict.values()\n",
    "\n",
    "plt.bar(keys, values, width = 0.8)\n",
    "plt.title(\"Player's age Bar Graph\")\n",
    "plt.xlabel(\"Age\")\n",
    "plt.ylabel(\"Frequency\")\n",
    "\n",
    "plt.xticks([17,19,21,23,25,27,29,31,33,35,37,39,41])\n",
    "plt.yticks([0,4,8,12,16,20,24,28,32,36,40])\n",
    "\n",
    "\n",
    "plt.show()"
   ]
  },
  {
   "cell_type": "markdown",
   "id": "6d6384b7",
   "metadata": {},
   "source": [
    "#### Pie chart of National and Foreign in Ligue 1."
   ]
  },
  {
   "cell_type": "code",
   "execution_count": 106,
   "id": "7bfb01c2",
   "metadata": {},
   "outputs": [
    {
     "name": "stdout",
     "output_type": "stream",
     "text": [
      "Percentage of National Players:  42.42 %\n",
      "Percentage of Foreign Players:  57.58 %\n"
     ]
    },
    {
     "data": {
      "image/png": "[encoded data removed]",
      "text/plain": [
       "<Figure size 432x288 with 1 Axes>"
      ]
     },
     "metadata": {},
     "output_type": "display_data"
    }
   ],
   "source": [
    "F = Ligue_1[\"Nation\"]\n",
    "cntF = Counter(F)\n",
    "\n",
    "# Removing the item where Nation is spain from the dictionary. \n",
    "r_National = cntF.pop('FRA')\n",
    "sumF = sum(cntF.values())\n",
    "\n",
    "N_per = r_National/(r_National+sumF)*100\n",
    "N_per = round(N_per,2)\n",
    "print(\"Percentage of National Players: \", N_per,\"%\")\n",
    "\n",
    "s_per = sumF/(r_National+sumF) * 100\n",
    "s_per = round(s_per,2)\n",
    "print(\"Percentage of Foreign Players: \",s_per,\"%\")\n",
    "\n",
    "label = [\"National Players (42.42%) \",\"Foreign players (57.58%)\" ]\n",
    "plt.pie([r_National, sumF],labels = label, colors = [\"Blue\",\"Red\"])\n",
    "\n",
    "\n",
    "plt.show()"
   ]
  },
  {
   "cell_type": "markdown",
   "id": "64a93b65",
   "metadata": {},
   "source": [
    "## Bundesliga 2022-2023 Football Player Stats."
   ]
  },
  {
   "cell_type": "markdown",
   "id": "9e3ac657",
   "metadata": {},
   "source": [
    "#### Making a DataFrame of only Bundesliga players."
   ]
  },
  {
   "cell_type": "code",
   "execution_count": 107,
   "id": "d1149961",
   "metadata": {},
   "outputs": [
    {
     "data": {
      "text/html": [
       "<div>\n",
       "<style scoped>\n",
       "    .dataframe tbody tr th:only-of-type {\n",
       "        vertical-align: middle;\n",
       "    }\n",
       "\n",
       "    .dataframe tbody tr th {\n",
       "        vertical-align: top;\n",
       "    }\n",
       "\n",
       "    .dataframe thead th {\n",
       "        text-align: right;\n",
       "    }\n",
       "</style>\n",
       "<table border=\"1\" class=\"dataframe\">\n",
       "  <thead>\n",
       "    <tr style=\"text-align: right;\">\n",
       "      <th></th>\n",
       "      <th>S.No</th>\n",
       "      <th>Player</th>\n",
       "      <th>Nation</th>\n",
       "      <th>Pos</th>\n",
       "      <th>Squad</th>\n",
       "      <th>Comp</th>\n",
       "      <th>Age</th>\n",
       "      <th>Born</th>\n",
       "      <th>MP</th>\n",
       "      <th>Starts</th>\n",
       "      <th>...</th>\n",
       "      <th>Off</th>\n",
       "      <th>Crs</th>\n",
       "      <th>TklW</th>\n",
       "      <th>PKwon</th>\n",
       "      <th>PKcon</th>\n",
       "      <th>OG</th>\n",
       "      <th>Recov</th>\n",
       "      <th>AerWon</th>\n",
       "      <th>AerLost</th>\n",
       "      <th>AerWon%</th>\n",
       "    </tr>\n",
       "  </thead>\n",
       "  <tbody>\n",
       "    <tr>\n",
       "      <th>13</th>\n",
       "      <td>14</td>\n",
       "      <td>Sargis Adamyan</td>\n",
       "      <td>ARM</td>\n",
       "      <td>FW</td>\n",
       "      <td>Köln</td>\n",
       "      <td>Bundesliga</td>\n",
       "      <td>29</td>\n",
       "      <td>1993</td>\n",
       "      <td>8</td>\n",
       "      <td>1</td>\n",
       "      <td>...</td>\n",
       "      <td>1.20</td>\n",
       "      <td>2.00</td>\n",
       "      <td>0.40</td>\n",
       "      <td>0.0</td>\n",
       "      <td>0.0</td>\n",
       "      <td>0.0</td>\n",
       "      <td>6.80</td>\n",
       "      <td>1.60</td>\n",
       "      <td>3.20</td>\n",
       "      <td>33.3</td>\n",
       "    </tr>\n",
       "    <tr>\n",
       "      <th>16</th>\n",
       "      <td>17</td>\n",
       "      <td>Karim Adeyemi</td>\n",
       "      <td>GER</td>\n",
       "      <td>FWMF</td>\n",
       "      <td>Dortmund</td>\n",
       "      <td>Bundesliga</td>\n",
       "      <td>20</td>\n",
       "      <td>2002</td>\n",
       "      <td>5</td>\n",
       "      <td>3</td>\n",
       "      <td>...</td>\n",
       "      <td>0.00</td>\n",
       "      <td>2.17</td>\n",
       "      <td>0.00</td>\n",
       "      <td>0.0</td>\n",
       "      <td>0.0</td>\n",
       "      <td>0.0</td>\n",
       "      <td>6.09</td>\n",
       "      <td>1.30</td>\n",
       "      <td>1.30</td>\n",
       "      <td>50.0</td>\n",
       "    </tr>\n",
       "    <tr>\n",
       "      <th>17</th>\n",
       "      <td>18</td>\n",
       "      <td>Amine Adli</td>\n",
       "      <td>FRA</td>\n",
       "      <td>FWDF</td>\n",
       "      <td>Leverkusen</td>\n",
       "      <td>Bundesliga</td>\n",
       "      <td>22</td>\n",
       "      <td>2000</td>\n",
       "      <td>3</td>\n",
       "      <td>0</td>\n",
       "      <td>...</td>\n",
       "      <td>1.11</td>\n",
       "      <td>2.22</td>\n",
       "      <td>1.11</td>\n",
       "      <td>0.0</td>\n",
       "      <td>0.0</td>\n",
       "      <td>0.0</td>\n",
       "      <td>12.20</td>\n",
       "      <td>1.11</td>\n",
       "      <td>2.22</td>\n",
       "      <td>33.3</td>\n",
       "    </tr>\n",
       "    <tr>\n",
       "      <th>23</th>\n",
       "      <td>24</td>\n",
       "      <td>Felix Agu</td>\n",
       "      <td>GER</td>\n",
       "      <td>DF</td>\n",
       "      <td>Werder Bremen</td>\n",
       "      <td>Bundesliga</td>\n",
       "      <td>23</td>\n",
       "      <td>1999</td>\n",
       "      <td>1</td>\n",
       "      <td>0</td>\n",
       "      <td>...</td>\n",
       "      <td>0.00</td>\n",
       "      <td>0.00</td>\n",
       "      <td>0.00</td>\n",
       "      <td>0.0</td>\n",
       "      <td>0.0</td>\n",
       "      <td>0.0</td>\n",
       "      <td>30.00</td>\n",
       "      <td>0.00</td>\n",
       "      <td>10.00</td>\n",
       "      <td>0.0</td>\n",
       "    </tr>\n",
       "    <tr>\n",
       "      <th>27</th>\n",
       "      <td>28</td>\n",
       "      <td>Naouirou Ahamada</td>\n",
       "      <td>FRA</td>\n",
       "      <td>MF</td>\n",
       "      <td>Stuttgart</td>\n",
       "      <td>Bundesliga</td>\n",
       "      <td>20</td>\n",
       "      <td>2002</td>\n",
       "      <td>8</td>\n",
       "      <td>8</td>\n",
       "      <td>...</td>\n",
       "      <td>0.14</td>\n",
       "      <td>0.41</td>\n",
       "      <td>0.68</td>\n",
       "      <td>0.0</td>\n",
       "      <td>0.0</td>\n",
       "      <td>0.0</td>\n",
       "      <td>7.26</td>\n",
       "      <td>0.96</td>\n",
       "      <td>1.23</td>\n",
       "      <td>43.8</td>\n",
       "    </tr>\n",
       "  </tbody>\n",
       "</table>\n",
       "<p>5 rows × 143 columns</p>\n",
       "</div>"
      ],
      "text/plain": [
       "    S.No            Player Nation   Pos          Squad        Comp  Age  Born  \\\n",
       "13    14    Sargis Adamyan    ARM    FW           Köln  Bundesliga   29  1993   \n",
       "16    17     Karim Adeyemi    GER  FWMF       Dortmund  Bundesliga   20  2002   \n",
       "17    18        Amine Adli    FRA  FWDF     Leverkusen  Bundesliga   22  2000   \n",
       "23    24         Felix Agu    GER    DF  Werder Bremen  Bundesliga   23  1999   \n",
       "27    28  Naouirou Ahamada    FRA    MF      Stuttgart  Bundesliga   20  2002   \n",
       "\n",
       "    MP  Starts  ...   Off   Crs  TklW  PKwon  PKcon   OG  Recov  AerWon  \\\n",
       "13   8       1  ...  1.20  2.00  0.40    0.0    0.0  0.0   6.80    1.60   \n",
       "16   5       3  ...  0.00  2.17  0.00    0.0    0.0  0.0   6.09    1.30   \n",
       "17   3       0  ...  1.11  2.22  1.11    0.0    0.0  0.0  12.20    1.11   \n",
       "23   1       0  ...  0.00  0.00  0.00    0.0    0.0  0.0  30.00    0.00   \n",
       "27   8       8  ...  0.14  0.41  0.68    0.0    0.0  0.0   7.26    0.96   \n",
       "\n",
       "    AerLost  AerWon%  \n",
       "13     3.20     33.3  \n",
       "16     1.30     50.0  \n",
       "17     2.22     33.3  \n",
       "23    10.00      0.0  \n",
       "27     1.23     43.8  \n",
       "\n",
       "[5 rows x 143 columns]"
      ]
     },
     "execution_count": 107,
     "metadata": {},
     "output_type": "execute_result"
    }
   ],
   "source": [
    "Bl = df.loc[df.Comp == \"Bundesliga\"]\n",
    "\n",
    "\n",
    "Bl.head()"
   ]
  },
  {
   "cell_type": "markdown",
   "id": "0f9e9a3d",
   "metadata": {},
   "source": [
    "#### Deleting S.No column from DataFrame"
   ]
  },
  {
   "cell_type": "code",
   "execution_count": 108,
   "id": "4cfc721c",
   "metadata": {},
   "outputs": [
    {
     "data": {
      "text/html": [
       "<div>\n",
       "<style scoped>\n",
       "    .dataframe tbody tr th:only-of-type {\n",
       "        vertical-align: middle;\n",
       "    }\n",
       "\n",
       "    .dataframe tbody tr th {\n",
       "        vertical-align: top;\n",
       "    }\n",
       "\n",
       "    .dataframe thead th {\n",
       "        text-align: right;\n",
       "    }\n",
       "</style>\n",
       "<table border=\"1\" class=\"dataframe\">\n",
       "  <thead>\n",
       "    <tr style=\"text-align: right;\">\n",
       "      <th></th>\n",
       "      <th>Player</th>\n",
       "      <th>Nation</th>\n",
       "      <th>Pos</th>\n",
       "      <th>Squad</th>\n",
       "      <th>Comp</th>\n",
       "      <th>Age</th>\n",
       "      <th>Born</th>\n",
       "      <th>MP</th>\n",
       "      <th>Starts</th>\n",
       "      <th>Min</th>\n",
       "      <th>...</th>\n",
       "      <th>Off</th>\n",
       "      <th>Crs</th>\n",
       "      <th>TklW</th>\n",
       "      <th>PKwon</th>\n",
       "      <th>PKcon</th>\n",
       "      <th>OG</th>\n",
       "      <th>Recov</th>\n",
       "      <th>AerWon</th>\n",
       "      <th>AerLost</th>\n",
       "      <th>AerWon%</th>\n",
       "    </tr>\n",
       "  </thead>\n",
       "  <tbody>\n",
       "    <tr>\n",
       "      <th>13</th>\n",
       "      <td>Sargis Adamyan</td>\n",
       "      <td>ARM</td>\n",
       "      <td>FW</td>\n",
       "      <td>Köln</td>\n",
       "      <td>Bundesliga</td>\n",
       "      <td>29</td>\n",
       "      <td>1993</td>\n",
       "      <td>8</td>\n",
       "      <td>1</td>\n",
       "      <td>226</td>\n",
       "      <td>...</td>\n",
       "      <td>1.20</td>\n",
       "      <td>2.00</td>\n",
       "      <td>0.40</td>\n",
       "      <td>0.0</td>\n",
       "      <td>0.0</td>\n",
       "      <td>0.0</td>\n",
       "      <td>6.80</td>\n",
       "      <td>1.60</td>\n",
       "      <td>3.20</td>\n",
       "      <td>33.3</td>\n",
       "    </tr>\n",
       "    <tr>\n",
       "      <th>16</th>\n",
       "      <td>Karim Adeyemi</td>\n",
       "      <td>GER</td>\n",
       "      <td>FWMF</td>\n",
       "      <td>Dortmund</td>\n",
       "      <td>Bundesliga</td>\n",
       "      <td>20</td>\n",
       "      <td>2002</td>\n",
       "      <td>5</td>\n",
       "      <td>3</td>\n",
       "      <td>207</td>\n",
       "      <td>...</td>\n",
       "      <td>0.00</td>\n",
       "      <td>2.17</td>\n",
       "      <td>0.00</td>\n",
       "      <td>0.0</td>\n",
       "      <td>0.0</td>\n",
       "      <td>0.0</td>\n",
       "      <td>6.09</td>\n",
       "      <td>1.30</td>\n",
       "      <td>1.30</td>\n",
       "      <td>50.0</td>\n",
       "    </tr>\n",
       "    <tr>\n",
       "      <th>17</th>\n",
       "      <td>Amine Adli</td>\n",
       "      <td>FRA</td>\n",
       "      <td>FWDF</td>\n",
       "      <td>Leverkusen</td>\n",
       "      <td>Bundesliga</td>\n",
       "      <td>22</td>\n",
       "      <td>2000</td>\n",
       "      <td>3</td>\n",
       "      <td>0</td>\n",
       "      <td>85</td>\n",
       "      <td>...</td>\n",
       "      <td>1.11</td>\n",
       "      <td>2.22</td>\n",
       "      <td>1.11</td>\n",
       "      <td>0.0</td>\n",
       "      <td>0.0</td>\n",
       "      <td>0.0</td>\n",
       "      <td>12.20</td>\n",
       "      <td>1.11</td>\n",
       "      <td>2.22</td>\n",
       "      <td>33.3</td>\n",
       "    </tr>\n",
       "    <tr>\n",
       "      <th>23</th>\n",
       "      <td>Felix Agu</td>\n",
       "      <td>GER</td>\n",
       "      <td>DF</td>\n",
       "      <td>Werder Bremen</td>\n",
       "      <td>Bundesliga</td>\n",
       "      <td>23</td>\n",
       "      <td>1999</td>\n",
       "      <td>1</td>\n",
       "      <td>0</td>\n",
       "      <td>15</td>\n",
       "      <td>...</td>\n",
       "      <td>0.00</td>\n",
       "      <td>0.00</td>\n",
       "      <td>0.00</td>\n",
       "      <td>0.0</td>\n",
       "      <td>0.0</td>\n",
       "      <td>0.0</td>\n",
       "      <td>30.00</td>\n",
       "      <td>0.00</td>\n",
       "      <td>10.00</td>\n",
       "      <td>0.0</td>\n",
       "    </tr>\n",
       "    <tr>\n",
       "      <th>27</th>\n",
       "      <td>Naouirou Ahamada</td>\n",
       "      <td>FRA</td>\n",
       "      <td>MF</td>\n",
       "      <td>Stuttgart</td>\n",
       "      <td>Bundesliga</td>\n",
       "      <td>20</td>\n",
       "      <td>2002</td>\n",
       "      <td>8</td>\n",
       "      <td>8</td>\n",
       "      <td>660</td>\n",
       "      <td>...</td>\n",
       "      <td>0.14</td>\n",
       "      <td>0.41</td>\n",
       "      <td>0.68</td>\n",
       "      <td>0.0</td>\n",
       "      <td>0.0</td>\n",
       "      <td>0.0</td>\n",
       "      <td>7.26</td>\n",
       "      <td>0.96</td>\n",
       "      <td>1.23</td>\n",
       "      <td>43.8</td>\n",
       "    </tr>\n",
       "  </tbody>\n",
       "</table>\n",
       "<p>5 rows × 142 columns</p>\n",
       "</div>"
      ],
      "text/plain": [
       "              Player Nation   Pos          Squad        Comp  Age  Born  MP  \\\n",
       "13    Sargis Adamyan    ARM    FW           Köln  Bundesliga   29  1993   8   \n",
       "16     Karim Adeyemi    GER  FWMF       Dortmund  Bundesliga   20  2002   5   \n",
       "17        Amine Adli    FRA  FWDF     Leverkusen  Bundesliga   22  2000   3   \n",
       "23         Felix Agu    GER    DF  Werder Bremen  Bundesliga   23  1999   1   \n",
       "27  Naouirou Ahamada    FRA    MF      Stuttgart  Bundesliga   20  2002   8   \n",
       "\n",
       "    Starts  Min  ...   Off   Crs  TklW  PKwon  PKcon   OG  Recov  AerWon  \\\n",
       "13       1  226  ...  1.20  2.00  0.40    0.0    0.0  0.0   6.80    1.60   \n",
       "16       3  207  ...  0.00  2.17  0.00    0.0    0.0  0.0   6.09    1.30   \n",
       "17       0   85  ...  1.11  2.22  1.11    0.0    0.0  0.0  12.20    1.11   \n",
       "23       0   15  ...  0.00  0.00  0.00    0.0    0.0  0.0  30.00    0.00   \n",
       "27       8  660  ...  0.14  0.41  0.68    0.0    0.0  0.0   7.26    0.96   \n",
       "\n",
       "    AerLost  AerWon%  \n",
       "13     3.20     33.3  \n",
       "16     1.30     50.0  \n",
       "17     2.22     33.3  \n",
       "23    10.00      0.0  \n",
       "27     1.23     43.8  \n",
       "\n",
       "[5 rows x 142 columns]"
      ]
     },
     "execution_count": 108,
     "metadata": {},
     "output_type": "execute_result"
    }
   ],
   "source": [
    "Bl = Bl.drop('S.No', axis = 1)\n",
    "\n",
    "\n",
    "Bl.head()"
   ]
  },
  {
   "cell_type": "markdown",
   "id": "c38c7b2a",
   "metadata": {},
   "source": [
    "#### Average age of players in Bundesliga."
   ]
  },
  {
   "cell_type": "code",
   "execution_count": 109,
   "id": "220c134b",
   "metadata": {},
   "outputs": [
    {
     "name": "stdout",
     "output_type": "stream",
     "text": [
      "Average age of player is:  25\n"
     ]
    }
   ],
   "source": [
    "av_age = int(Bl[\"Age\"].mean())\n",
    "\n",
    "\n",
    "print(\"Average age of player is: \", av_age)"
   ]
  },
  {
   "cell_type": "markdown",
   "id": "da1f5254",
   "metadata": {},
   "source": [
    "#### Oldest player in Bundesliga."
   ]
  },
  {
   "cell_type": "code",
   "execution_count": 110,
   "id": "0cbfd625",
   "metadata": {},
   "outputs": [
    {
     "name": "stdout",
     "output_type": "stream",
     "text": [
      "Name of the oldest player:  Makoto Hasebe \n",
      "\n",
      "Age of the oldest player:  38\n"
     ]
    }
   ],
   "source": [
    "oldest = Bl.loc[Bl[\"Age\"].idxmax()]\n",
    "\n",
    "\n",
    "print(\"Name of the oldest player: \", oldest['Player'],\"\\n\")\n",
    "print(\"Age of the oldest player: \", oldest['Age'])"
   ]
  },
  {
   "cell_type": "markdown",
   "id": "0ac1fe90",
   "metadata": {},
   "source": [
    "#### Youngest player in Bundesliga."
   ]
  },
  {
   "cell_type": "code",
   "execution_count": 111,
   "id": "dc458292",
   "metadata": {},
   "outputs": [
    {
     "name": "stdout",
     "output_type": "stream",
     "text": [
      "Name of the youngest player:  Youssoufa Moukoko \n",
      "\n",
      "Age of the youngest player:  17\n"
     ]
    }
   ],
   "source": [
    "youngest = Bl.loc[Bl[\"Age\"].idxmin()]\n",
    "\n",
    "\n",
    "print(\"Name of the youngest player: \", youngest['Player'],\"\\n\")\n",
    "print(\"Age of the youngest player: \", youngest['Age'])"
   ]
  },
  {
   "cell_type": "markdown",
   "id": "8c2add1c",
   "metadata": {},
   "source": [
    "#### Top 5 Goal Scorers in Bundesliga."
   ]
  },
  {
   "cell_type": "code",
   "execution_count": 112,
   "id": "a2440541",
   "metadata": {},
   "outputs": [
    {
     "name": "stdout",
     "output_type": "stream",
     "text": [
      "             Player          Squad   Pos  Goals Nation\n",
      "1604       Paulinho     Leverkusen  FWMF   3.33    BRA\n",
      "1750  Marco Richter     Hertha BSC  FWDF   1.82    GER\n",
      "1401    Sven Michel   Union Berlin  FWMF   1.54    GER\n",
      "319    Oliver Burke  Werder Bremen    FW   1.43    SCO\n",
      "495   Moanes Dabbur     Hoffenheim    FW   1.00    ISR\n"
     ]
    }
   ],
   "source": [
    "Goal_scorer = Bl.nlargest(5, ['Goals'])\n",
    "\n",
    "g_a = Goal_scorer['Player']\n",
    "\n",
    "g_b =  Goal_scorer['Squad']\n",
    "\n",
    "g_c = Goal_scorer['Pos']\n",
    "\n",
    "g_d = Goal_scorer[\"Goals\"]\n",
    "\n",
    "g_e = Goal_scorer[\"Nation\"]\n",
    "\n",
    "Goal_scorer_df = pd.concat([g_a,g_b,g_c,g_d,g_e],axis=1)\n",
    "\n",
    "\n",
    "print(Goal_scorer_df)"
   ]
  },
  {
   "cell_type": "markdown",
   "id": "ed9a02d5",
   "metadata": {},
   "source": [
    "#### Top 5 players with most Assists in Bundesliga."
   ]
  },
  {
   "cell_type": "code",
   "execution_count": 113,
   "id": "43e74a3e",
   "metadata": {},
   "outputs": [
    {
     "name": "stdout",
     "output_type": "stream",
     "text": [
      "                 Player          Squad Nation   Pos  Assists\n",
      "2133    Gabriel Vidovic  Bayern Munich    CRO  MFFW     5.00\n",
      "974   Denis Huseinbasic           Köln    GER    MF     3.33\n",
      "1887        Paul Seguin   Union Berlin    GER    MF     2.00\n",
      "1982     Angelo Stiller     Hoffenheim    GER    MF     2.00\n",
      "1057     Sasa Kalajdzic      Stuttgart    AUT    FW     1.15\n"
     ]
    }
   ],
   "source": [
    "assist = Bl.nlargest(5, ['Assists'])\n",
    "\n",
    "aa_a = assist['Player']\n",
    "\n",
    "aa_b =  assist['Squad']\n",
    "\n",
    "aa_c =  assist[\"Nation\"]\n",
    "\n",
    "aa_d = assist['Pos']\n",
    "\n",
    "aa_e = assist[\"Assists\"]\n",
    "\n",
    "assist_df = pd.concat([aa_a,aa_b,aa_c,aa_d,aa_e],axis=1)\n",
    "\n",
    "\n",
    "print(assist_df)"
   ]
  },
  {
   "cell_type": "markdown",
   "id": "9f6e4856",
   "metadata": {},
   "source": [
    "#### Top 5 Players with most Dribbles completed successfully in Bundesliga."
   ]
  },
  {
   "cell_type": "code",
   "execution_count": 114,
   "id": "03b6da42",
   "metadata": {},
   "outputs": [
    {
     "name": "stdout",
     "output_type": "stream",
     "text": [
      "                      Player         Squad Nation   Pos  DriSucc\n",
      "178             Aymen Barkok      Mainz 05    MAR    MF    10.00\n",
      "275   Yvandro Borges Sanches    M'Gladbach    LUX    MF    10.00\n",
      "2157           Robert Wagner      Freiburg    GER    MF    10.00\n",
      "1212          Jamie Leweling  Union Berlin    GER    FW     8.00\n",
      "1604                Paulinho    Leverkusen    BRA  FWMF     6.67\n"
     ]
    }
   ],
   "source": [
    "Dribbles = Bl.nlargest(5, ['DriSucc'])\n",
    "\n",
    "d_a = Dribbles['Player']\n",
    "\n",
    "d_b =  Dribbles['Squad']\n",
    "\n",
    "d_c =  Dribbles[\"Nation\"]\n",
    "\n",
    "d_d = Dribbles['Pos']\n",
    "\n",
    "d_e = Dribbles[\"DriSucc\"]\n",
    "\n",
    "Dribbles_df = pd.concat([d_a,d_b,d_c,d_d,d_e],axis=1)\n",
    "\n",
    "\n",
    "print(Dribbles_df)"
   ]
  },
  {
   "cell_type": "markdown",
   "id": "d40d1876",
   "metadata": {},
   "source": [
    "#### Top 5 players most Tackles won in Bundesliga."
   ]
  },
  {
   "cell_type": "code",
   "execution_count": 115,
   "id": "735e8d9f",
   "metadata": {},
   "outputs": [
    {
     "name": "stdout",
     "output_type": "stream",
     "text": [
      "                      Player       Squad Nation   Pos  TklWon\n",
      "275   Yvandro Borges Sanches  M'Gladbach    LUX    MF    10.0\n",
      "1015          Tony Jantschke  M'Gladbach    GER    MF    10.0\n",
      "1647            Lukas Petkov    Augsburg    GER    MF    10.0\n",
      "1074           Kenan Karaman  Schalke 04    TUR  FWMF     6.0\n",
      "747       Raphael Framberger    Augsburg    GER    DF     5.0\n"
     ]
    }
   ],
   "source": [
    "tackle = Bl.nlargest(5, ['TklWon'])\n",
    "\n",
    "t_a = tackle['Player']\n",
    "\n",
    "t_b =  tackle['Squad']\n",
    "\n",
    "t_c = tackle[\"Nation\"]\n",
    "\n",
    "t_d = tackle['Pos']\n",
    "\n",
    "t_e = tackle[\"TklWon\"]\n",
    "\n",
    "tackle_df = pd.concat([t_a,t_b,t_c,t_d,t_e],axis=1)\n",
    "\n",
    "\n",
    "print(tackle_df)"
   ]
  },
  {
   "cell_type": "markdown",
   "id": "eeca4f7c",
   "metadata": {},
   "source": [
    "#### Top 5 players with the most yellow cards in Bundesliga."
   ]
  },
  {
   "cell_type": "code",
   "execution_count": 116,
   "id": "2afa5702",
   "metadata": {},
   "outputs": [
    {
     "name": "stdout",
     "output_type": "stream",
     "text": [
      "                 Player       Squad Nation   Pos   CrdY\n",
      "1683       Stefan Posch  Hoffenheim    AUT    DF  10.00\n",
      "1951  Alexander Sørloth  RB Leipzig    NOR    FW  10.00\n",
      "943    Patrick Herrmann  M'Gladbach    GER  FWMF   6.67\n",
      "1438       Clinton Mola   Stuttgart    ENG    DF   5.00\n",
      "974   Denis Huseinbasic        Köln    GER    MF   3.33\n"
     ]
    }
   ],
   "source": [
    "yellow_card = Bl.nlargest(5, ['CrdY'])\n",
    "\n",
    "yc_a = yellow_card['Player']\n",
    "\n",
    "yc_b =  yellow_card['Squad']\n",
    "\n",
    "yc_c = yellow_card[\"Nation\"]\n",
    "\n",
    "yc_d = yellow_card['Pos']\n",
    "\n",
    "yc_e = yellow_card[\"CrdY\"]\n",
    "\n",
    "yellow_card_df = pd.concat([yc_a,yc_b,yc_c,yc_d,yc_e],axis=1)\n",
    "\n",
    "\n",
    "print(yellow_card_df)"
   ]
  },
  {
   "cell_type": "markdown",
   "id": "172c0292",
   "metadata": {},
   "source": [
    "#### Top 5 players with the most red cards in Bundesliga."
   ]
  },
  {
   "cell_type": "code",
   "execution_count": 139,
   "id": "3ace6264",
   "metadata": {},
   "outputs": [
    {
     "name": "stdout",
     "output_type": "stream",
     "text": [
      "              Player          Squad Nation   Pos  CrdR\n",
      "1683    Stefan Posch     Hoffenheim    AUT    DF  5.00\n",
      "1650   Luca Pfeiffer      Stuttgart    GER    FW  0.91\n",
      "448   Kingsley Coman  Bayern Munich    FRA  MFFW  0.30\n",
      "152   Mitchel Bakker     Leverkusen    NED    DF  0.28\n",
      "234   Mergim Berisha       Augsburg    GER    FW  0.28\n"
     ]
    }
   ],
   "source": [
    "red_card = Bl.nlargest(5, ['CrdR'])\n",
    "\n",
    "rc_a = red_card['Player']\n",
    "\n",
    "rc_b =  red_card['Squad']\n",
    "\n",
    "rc_c = red_card[\"Nation\"]\n",
    "\n",
    "rc_d = red_card['Pos']\n",
    "\n",
    "rc_e = red_card[\"CrdR\"]\n",
    "\n",
    "red_card_df = pd.concat([rc_a,rc_b,rc_c,rc_d,rc_e],axis=1)\n",
    "\n",
    "\n",
    "print(red_card_df)"
   ]
  },
  {
   "cell_type": "markdown",
   "id": "f7952d53",
   "metadata": {},
   "source": [
    "#### Player with most nutmegs in Bundesliga."
   ]
  },
  {
   "cell_type": "code",
   "execution_count": 118,
   "id": "d7f85448",
   "metadata": {},
   "outputs": [
    {
     "name": "stdout",
     "output_type": "stream",
     "text": [
      "Robert Wagner\n"
     ]
    }
   ],
   "source": [
    "Megs = Bl.loc[Bl[\"DriMegs\"].idxmax()]\n",
    "\n",
    "\n",
    "print (Megs[\"Player\"])"
   ]
  },
  {
   "cell_type": "markdown",
   "id": "bcaeb701",
   "metadata": {},
   "source": [
    "#### Bar Graph of the age of the players in Bundesliga."
   ]
  },
  {
   "cell_type": "code",
   "execution_count": 140,
   "id": "3411021e",
   "metadata": {},
   "outputs": [
    {
     "data": {
      "image/png": "[encoded data removed]",
      "text/plain": [
       "<Figure size 432x288 with 1 Axes>"
      ]
     },
     "metadata": {
      "needs_background": "light"
     },
     "output_type": "display_data"
    }
   ],
   "source": [
    "h = Bl[\"Age\"]\n",
    "cnt = Counter(h)\n",
    "\n",
    "## Sorting the items in the dictionary in accesseding order.\n",
    "sort_cnt = sorted(cnt.items())\n",
    "sort_cnt_dict = dict(sort_cnt)\n",
    "\n",
    "## Seprating the keys and values from the dictionary into another variable\n",
    "keys = sort_cnt_dict.keys()\n",
    "values = sort_cnt_dict.values()\n",
    "\n",
    "plt.bar(keys, values, width = 0.8)\n",
    "plt.title(\"Player's age Bar Graph\")\n",
    "plt.xlabel(\"Age\")\n",
    "plt.ylabel(\"Frequency\")\n",
    "\n",
    "plt.xticks([17,19,21,23,25,27,29,31,33,35,37,39,41])\n",
    "plt.yticks([0,4,8,12,16,20,24,28,32,36,40])\n",
    "\n",
    "\n",
    "plt.show()"
   ]
  },
  {
   "cell_type": "markdown",
   "id": "2d68928e",
   "metadata": {},
   "source": [
    "#### Pie chart of National and Foreign in Bundesliga."
   ]
  },
  {
   "cell_type": "code",
   "execution_count": 141,
   "id": "25521bb7",
   "metadata": {},
   "outputs": [
    {
     "name": "stdout",
     "output_type": "stream",
     "text": [
      "Percentage of National Players:  41.69 %\n",
      "Percentage of Foreign Players:  58.31 %\n"
     ]
    },
    {
     "data": {
      "image/png": "[encoded data removed]",
      "text/plain": [
       "<Figure size 432x288 with 1 Axes>"
      ]
     },
     "metadata": {},
     "output_type": "display_data"
    }
   ],
   "source": [
    "F = Bl[\"Nation\"]\n",
    "cntF = Counter(F)\n",
    "\n",
    "# Removing the item where Nation is spain from the dictionary. \n",
    "r_National = cntF.pop('GER')\n",
    "SumBl = sum(cntF.values())\n",
    "\n",
    "N_per = r_National/(r_National+SumBl)*100\n",
    "N_per = round(N_per,2)\n",
    "print(\"Percentage of National Players: \",N_per,\"%\")\n",
    "\n",
    "\n",
    "s_per = SumBl/(r_National+SumBl) * 100\n",
    "s_per = round(s_per,2)\n",
    "print(\"Percentage of Foreign Players: \", s_per,\"%\")\n",
    "\n",
    "label = [\"National Players (41.69%) \",\"Foreign players (58.31%)\"]\n",
    "plt.pie([r_National, SumBl],labels = label, colors = [\"Blue\",\"Red\"])\n",
    "\n",
    "\n",
    "plt.show()"
   ]
  },
  {
   "cell_type": "markdown",
   "id": "bc482a0a",
   "metadata": {},
   "source": [
    "## Premier League 2022-2023 Football Player Stats."
   ]
  },
  {
   "cell_type": "markdown",
   "id": "0d2664f2",
   "metadata": {},
   "source": [
    "#### Making a DataFrame of only Premier League players."
   ]
  },
  {
   "cell_type": "code",
   "execution_count": 142,
   "id": "07ebb6ee",
   "metadata": {},
   "outputs": [
    {
     "data": {
      "text/html": [
       "<div>\n",
       "<style scoped>\n",
       "    .dataframe tbody tr th:only-of-type {\n",
       "        vertical-align: middle;\n",
       "    }\n",
       "\n",
       "    .dataframe tbody tr th {\n",
       "        vertical-align: top;\n",
       "    }\n",
       "\n",
       "    .dataframe thead th {\n",
       "        text-align: right;\n",
       "    }\n",
       "</style>\n",
       "<table border=\"1\" class=\"dataframe\">\n",
       "  <thead>\n",
       "    <tr style=\"text-align: right;\">\n",
       "      <th></th>\n",
       "      <th>S.No</th>\n",
       "      <th>Player</th>\n",
       "      <th>Nation</th>\n",
       "      <th>Pos</th>\n",
       "      <th>Squad</th>\n",
       "      <th>Comp</th>\n",
       "      <th>Age</th>\n",
       "      <th>Born</th>\n",
       "      <th>MP</th>\n",
       "      <th>Starts</th>\n",
       "      <th>...</th>\n",
       "      <th>Off</th>\n",
       "      <th>Crs</th>\n",
       "      <th>TklW</th>\n",
       "      <th>PKwon</th>\n",
       "      <th>PKcon</th>\n",
       "      <th>OG</th>\n",
       "      <th>Recov</th>\n",
       "      <th>AerWon</th>\n",
       "      <th>AerLost</th>\n",
       "      <th>AerWon%</th>\n",
       "    </tr>\n",
       "  </thead>\n",
       "  <tbody>\n",
       "    <tr>\n",
       "      <th>0</th>\n",
       "      <td>1</td>\n",
       "      <td>Brenden Aaronson</td>\n",
       "      <td>USA</td>\n",
       "      <td>MFFW</td>\n",
       "      <td>Leeds United</td>\n",
       "      <td>Premier League</td>\n",
       "      <td>21</td>\n",
       "      <td>2000</td>\n",
       "      <td>7</td>\n",
       "      <td>7</td>\n",
       "      <td>...</td>\n",
       "      <td>0.47</td>\n",
       "      <td>1.25</td>\n",
       "      <td>1.09</td>\n",
       "      <td>0.0</td>\n",
       "      <td>0.00</td>\n",
       "      <td>0.00</td>\n",
       "      <td>5.78</td>\n",
       "      <td>0.47</td>\n",
       "      <td>2.66</td>\n",
       "      <td>15.0</td>\n",
       "    </tr>\n",
       "    <tr>\n",
       "      <th>11</th>\n",
       "      <td>12</td>\n",
       "      <td>Che Adams</td>\n",
       "      <td>SCO</td>\n",
       "      <td>FW</td>\n",
       "      <td>Southampton</td>\n",
       "      <td>Premier League</td>\n",
       "      <td>26</td>\n",
       "      <td>1996</td>\n",
       "      <td>8</td>\n",
       "      <td>7</td>\n",
       "      <td>...</td>\n",
       "      <td>0.28</td>\n",
       "      <td>1.13</td>\n",
       "      <td>0.42</td>\n",
       "      <td>0.0</td>\n",
       "      <td>0.00</td>\n",
       "      <td>0.00</td>\n",
       "      <td>4.37</td>\n",
       "      <td>3.38</td>\n",
       "      <td>7.46</td>\n",
       "      <td>31.2</td>\n",
       "    </tr>\n",
       "    <tr>\n",
       "      <th>12</th>\n",
       "      <td>13</td>\n",
       "      <td>Tyler Adams</td>\n",
       "      <td>USA</td>\n",
       "      <td>MF</td>\n",
       "      <td>Leeds United</td>\n",
       "      <td>Premier League</td>\n",
       "      <td>23</td>\n",
       "      <td>1999</td>\n",
       "      <td>7</td>\n",
       "      <td>7</td>\n",
       "      <td>...</td>\n",
       "      <td>0.00</td>\n",
       "      <td>0.14</td>\n",
       "      <td>1.71</td>\n",
       "      <td>0.0</td>\n",
       "      <td>0.00</td>\n",
       "      <td>0.00</td>\n",
       "      <td>13.70</td>\n",
       "      <td>0.57</td>\n",
       "      <td>0.86</td>\n",
       "      <td>40.0</td>\n",
       "    </tr>\n",
       "    <tr>\n",
       "      <th>14</th>\n",
       "      <td>15</td>\n",
       "      <td>Tosin Adarabioyo</td>\n",
       "      <td>ENG</td>\n",
       "      <td>DF</td>\n",
       "      <td>Fulham</td>\n",
       "      <td>Premier League</td>\n",
       "      <td>25</td>\n",
       "      <td>1997</td>\n",
       "      <td>8</td>\n",
       "      <td>8</td>\n",
       "      <td>...</td>\n",
       "      <td>0.00</td>\n",
       "      <td>0.00</td>\n",
       "      <td>0.75</td>\n",
       "      <td>0.0</td>\n",
       "      <td>0.00</td>\n",
       "      <td>0.00</td>\n",
       "      <td>8.75</td>\n",
       "      <td>3.13</td>\n",
       "      <td>0.75</td>\n",
       "      <td>80.6</td>\n",
       "    </tr>\n",
       "    <tr>\n",
       "      <th>31</th>\n",
       "      <td>32</td>\n",
       "      <td>Rayan Aït Nouri</td>\n",
       "      <td>FRA</td>\n",
       "      <td>DF</td>\n",
       "      <td>Wolves</td>\n",
       "      <td>Premier League</td>\n",
       "      <td>21</td>\n",
       "      <td>2001</td>\n",
       "      <td>8</td>\n",
       "      <td>6</td>\n",
       "      <td>...</td>\n",
       "      <td>0.00</td>\n",
       "      <td>1.29</td>\n",
       "      <td>1.29</td>\n",
       "      <td>0.0</td>\n",
       "      <td>0.16</td>\n",
       "      <td>0.16</td>\n",
       "      <td>6.94</td>\n",
       "      <td>1.45</td>\n",
       "      <td>1.77</td>\n",
       "      <td>45.0</td>\n",
       "    </tr>\n",
       "  </tbody>\n",
       "</table>\n",
       "<p>5 rows × 143 columns</p>\n",
       "</div>"
      ],
      "text/plain": [
       "    S.No            Player Nation   Pos         Squad            Comp  Age  \\\n",
       "0      1  Brenden Aaronson    USA  MFFW  Leeds United  Premier League   21   \n",
       "11    12         Che Adams    SCO    FW   Southampton  Premier League   26   \n",
       "12    13       Tyler Adams    USA    MF  Leeds United  Premier League   23   \n",
       "14    15  Tosin Adarabioyo    ENG    DF        Fulham  Premier League   25   \n",
       "31    32   Rayan Aït Nouri    FRA    DF        Wolves  Premier League   21   \n",
       "\n",
       "    Born  MP  Starts  ...   Off   Crs  TklW  PKwon  PKcon    OG  Recov  \\\n",
       "0   2000   7       7  ...  0.47  1.25  1.09    0.0   0.00  0.00   5.78   \n",
       "11  1996   8       7  ...  0.28  1.13  0.42    0.0   0.00  0.00   4.37   \n",
       "12  1999   7       7  ...  0.00  0.14  1.71    0.0   0.00  0.00  13.70   \n",
       "14  1997   8       8  ...  0.00  0.00  0.75    0.0   0.00  0.00   8.75   \n",
       "31  2001   8       6  ...  0.00  1.29  1.29    0.0   0.16  0.16   6.94   \n",
       "\n",
       "    AerWon  AerLost  AerWon%  \n",
       "0     0.47     2.66     15.0  \n",
       "11    3.38     7.46     31.2  \n",
       "12    0.57     0.86     40.0  \n",
       "14    3.13     0.75     80.6  \n",
       "31    1.45     1.77     45.0  \n",
       "\n",
       "[5 rows x 143 columns]"
      ]
     },
     "execution_count": 142,
     "metadata": {},
     "output_type": "execute_result"
    }
   ],
   "source": [
    "Pl = df.loc[df.Comp == \"Premier League\"]\n",
    "\n",
    "\n",
    "Pl.head()"
   ]
  },
  {
   "cell_type": "markdown",
   "id": "3a16e497",
   "metadata": {},
   "source": [
    "#### Deleting S.No column from DataFrame."
   ]
  },
  {
   "cell_type": "code",
   "execution_count": 143,
   "id": "952b217f",
   "metadata": {},
   "outputs": [
    {
     "data": {
      "text/html": [
       "<div>\n",
       "<style scoped>\n",
       "    .dataframe tbody tr th:only-of-type {\n",
       "        vertical-align: middle;\n",
       "    }\n",
       "\n",
       "    .dataframe tbody tr th {\n",
       "        vertical-align: top;\n",
       "    }\n",
       "\n",
       "    .dataframe thead th {\n",
       "        text-align: right;\n",
       "    }\n",
       "</style>\n",
       "<table border=\"1\" class=\"dataframe\">\n",
       "  <thead>\n",
       "    <tr style=\"text-align: right;\">\n",
       "      <th></th>\n",
       "      <th>Player</th>\n",
       "      <th>Nation</th>\n",
       "      <th>Pos</th>\n",
       "      <th>Squad</th>\n",
       "      <th>Comp</th>\n",
       "      <th>Age</th>\n",
       "      <th>Born</th>\n",
       "      <th>MP</th>\n",
       "      <th>Starts</th>\n",
       "      <th>Min</th>\n",
       "      <th>...</th>\n",
       "      <th>Off</th>\n",
       "      <th>Crs</th>\n",
       "      <th>TklW</th>\n",
       "      <th>PKwon</th>\n",
       "      <th>PKcon</th>\n",
       "      <th>OG</th>\n",
       "      <th>Recov</th>\n",
       "      <th>AerWon</th>\n",
       "      <th>AerLost</th>\n",
       "      <th>AerWon%</th>\n",
       "    </tr>\n",
       "  </thead>\n",
       "  <tbody>\n",
       "    <tr>\n",
       "      <th>0</th>\n",
       "      <td>Brenden Aaronson</td>\n",
       "      <td>USA</td>\n",
       "      <td>MFFW</td>\n",
       "      <td>Leeds United</td>\n",
       "      <td>Premier League</td>\n",
       "      <td>21</td>\n",
       "      <td>2000</td>\n",
       "      <td>7</td>\n",
       "      <td>7</td>\n",
       "      <td>579</td>\n",
       "      <td>...</td>\n",
       "      <td>0.47</td>\n",
       "      <td>1.25</td>\n",
       "      <td>1.09</td>\n",
       "      <td>0.0</td>\n",
       "      <td>0.00</td>\n",
       "      <td>0.00</td>\n",
       "      <td>5.78</td>\n",
       "      <td>0.47</td>\n",
       "      <td>2.66</td>\n",
       "      <td>15.0</td>\n",
       "    </tr>\n",
       "    <tr>\n",
       "      <th>11</th>\n",
       "      <td>Che Adams</td>\n",
       "      <td>SCO</td>\n",
       "      <td>FW</td>\n",
       "      <td>Southampton</td>\n",
       "      <td>Premier League</td>\n",
       "      <td>26</td>\n",
       "      <td>1996</td>\n",
       "      <td>8</td>\n",
       "      <td>7</td>\n",
       "      <td>642</td>\n",
       "      <td>...</td>\n",
       "      <td>0.28</td>\n",
       "      <td>1.13</td>\n",
       "      <td>0.42</td>\n",
       "      <td>0.0</td>\n",
       "      <td>0.00</td>\n",
       "      <td>0.00</td>\n",
       "      <td>4.37</td>\n",
       "      <td>3.38</td>\n",
       "      <td>7.46</td>\n",
       "      <td>31.2</td>\n",
       "    </tr>\n",
       "    <tr>\n",
       "      <th>12</th>\n",
       "      <td>Tyler Adams</td>\n",
       "      <td>USA</td>\n",
       "      <td>MF</td>\n",
       "      <td>Leeds United</td>\n",
       "      <td>Premier League</td>\n",
       "      <td>23</td>\n",
       "      <td>1999</td>\n",
       "      <td>7</td>\n",
       "      <td>7</td>\n",
       "      <td>630</td>\n",
       "      <td>...</td>\n",
       "      <td>0.00</td>\n",
       "      <td>0.14</td>\n",
       "      <td>1.71</td>\n",
       "      <td>0.0</td>\n",
       "      <td>0.00</td>\n",
       "      <td>0.00</td>\n",
       "      <td>13.70</td>\n",
       "      <td>0.57</td>\n",
       "      <td>0.86</td>\n",
       "      <td>40.0</td>\n",
       "    </tr>\n",
       "    <tr>\n",
       "      <th>14</th>\n",
       "      <td>Tosin Adarabioyo</td>\n",
       "      <td>ENG</td>\n",
       "      <td>DF</td>\n",
       "      <td>Fulham</td>\n",
       "      <td>Premier League</td>\n",
       "      <td>25</td>\n",
       "      <td>1997</td>\n",
       "      <td>8</td>\n",
       "      <td>8</td>\n",
       "      <td>720</td>\n",
       "      <td>...</td>\n",
       "      <td>0.00</td>\n",
       "      <td>0.00</td>\n",
       "      <td>0.75</td>\n",
       "      <td>0.0</td>\n",
       "      <td>0.00</td>\n",
       "      <td>0.00</td>\n",
       "      <td>8.75</td>\n",
       "      <td>3.13</td>\n",
       "      <td>0.75</td>\n",
       "      <td>80.6</td>\n",
       "    </tr>\n",
       "    <tr>\n",
       "      <th>31</th>\n",
       "      <td>Rayan Aït Nouri</td>\n",
       "      <td>FRA</td>\n",
       "      <td>DF</td>\n",
       "      <td>Wolves</td>\n",
       "      <td>Premier League</td>\n",
       "      <td>21</td>\n",
       "      <td>2001</td>\n",
       "      <td>8</td>\n",
       "      <td>6</td>\n",
       "      <td>560</td>\n",
       "      <td>...</td>\n",
       "      <td>0.00</td>\n",
       "      <td>1.29</td>\n",
       "      <td>1.29</td>\n",
       "      <td>0.0</td>\n",
       "      <td>0.16</td>\n",
       "      <td>0.16</td>\n",
       "      <td>6.94</td>\n",
       "      <td>1.45</td>\n",
       "      <td>1.77</td>\n",
       "      <td>45.0</td>\n",
       "    </tr>\n",
       "  </tbody>\n",
       "</table>\n",
       "<p>5 rows × 142 columns</p>\n",
       "</div>"
      ],
      "text/plain": [
       "              Player Nation   Pos         Squad            Comp  Age  Born  \\\n",
       "0   Brenden Aaronson    USA  MFFW  Leeds United  Premier League   21  2000   \n",
       "11         Che Adams    SCO    FW   Southampton  Premier League   26  1996   \n",
       "12       Tyler Adams    USA    MF  Leeds United  Premier League   23  1999   \n",
       "14  Tosin Adarabioyo    ENG    DF        Fulham  Premier League   25  1997   \n",
       "31   Rayan Aït Nouri    FRA    DF        Wolves  Premier League   21  2001   \n",
       "\n",
       "    MP  Starts  Min  ...   Off   Crs  TklW  PKwon  PKcon    OG  Recov  AerWon  \\\n",
       "0    7       7  579  ...  0.47  1.25  1.09    0.0   0.00  0.00   5.78    0.47   \n",
       "11   8       7  642  ...  0.28  1.13  0.42    0.0   0.00  0.00   4.37    3.38   \n",
       "12   7       7  630  ...  0.00  0.14  1.71    0.0   0.00  0.00  13.70    0.57   \n",
       "14   8       8  720  ...  0.00  0.00  0.75    0.0   0.00  0.00   8.75    3.13   \n",
       "31   8       6  560  ...  0.00  1.29  1.29    0.0   0.16  0.16   6.94    1.45   \n",
       "\n",
       "    AerLost  AerWon%  \n",
       "0      2.66     15.0  \n",
       "11     7.46     31.2  \n",
       "12     0.86     40.0  \n",
       "14     0.75     80.6  \n",
       "31     1.77     45.0  \n",
       "\n",
       "[5 rows x 142 columns]"
      ]
     },
     "execution_count": 143,
     "metadata": {},
     "output_type": "execute_result"
    }
   ],
   "source": [
    "Pl = Pl.drop('S.No', axis = 1)\n",
    "\n",
    "\n",
    "Pl.head()"
   ]
  },
  {
   "cell_type": "markdown",
   "id": "29f8d61c",
   "metadata": {},
   "source": [
    "#### Average age of players in Premier League."
   ]
  },
  {
   "cell_type": "code",
   "execution_count": 144,
   "id": "8f2ff2e2",
   "metadata": {},
   "outputs": [
    {
     "name": "stdout",
     "output_type": "stream",
     "text": [
      "Average age of player is:  26\n"
     ]
    }
   ],
   "source": [
    "av_age = int(Pl[\"Age\"].mean())\n",
    "\n",
    "\n",
    "print(\"Average age of player is: \", av_age)"
   ]
  },
  {
   "cell_type": "markdown",
   "id": "52324727",
   "metadata": {},
   "source": [
    "#### Oldest player in Premier League."
   ]
  },
  {
   "cell_type": "code",
   "execution_count": 178,
   "id": "6a72962d",
   "metadata": {},
   "outputs": [
    {
     "name": "stdout",
     "output_type": "stream",
     "text": [
      "Name of the oldest player:  Thiago Silva \n",
      "\n",
      "Age of the oldest player:  38\n"
     ]
    }
   ],
   "source": [
    "oldest = Pl.loc[Pl[\"Age\"].idxmax()]\n",
    "                \n",
    "print(\"Name of the oldest player: \", oldest['Player'],\"\\n\")\n",
    "print(\"Age of the oldest player: \", oldest['Age'])"
   ]
  },
  {
   "cell_type": "markdown",
   "id": "83fe97af",
   "metadata": {},
   "source": [
    "#### Youngest player in Premier League."
   ]
  },
  {
   "cell_type": "code",
   "execution_count": 153,
   "id": "e7e260e4",
   "metadata": {},
   "outputs": [
    {
     "name": "stdout",
     "output_type": "stream",
     "text": [
      "Name of the youngest player:  Ethan Nwaneri \n",
      "\n",
      "Age of the youngest player:  15\n"
     ]
    }
   ],
   "source": [
    "youngest = Pl.loc[Pl[\"Age\"].idxmin()]\n",
    "\n",
    "\n",
    "print(\"Name of the youngest player: \", youngest['Player'],\"\\n\")\n",
    "print(\"Age of the youngest player: \", youngest['Age'])"
   ]
  },
  {
   "cell_type": "markdown",
   "id": "fe89f287",
   "metadata": {},
   "source": [
    "#### Top 5 Goal Scorers in Premier League."
   ]
  },
  {
   "cell_type": "code",
   "execution_count": 154,
   "id": "3313713d",
   "metadata": {},
   "outputs": [
    {
     "name": "stdout",
     "output_type": "stream",
     "text": [
      "                         Player            Squad   Pos  Goals Nation\n",
      "1331            Anthony Martial   Manchester Utd    FW   2.22    FRA\n",
      "897              Erling Haaland  Manchester City    FW   1.81    NOR\n",
      "91                       Antony   Manchester Utd    FW   1.25    BRA\n",
      "123   Pierre-Emerick Aubameyang          Chelsea    FW   1.25    GAB\n",
      "727             Roberto Firmino        Liverpool  FWMF   1.09    BRA\n"
     ]
    }
   ],
   "source": [
    "Goal_scorer = Pl.nlargest(5, ['Goals'])\n",
    "\n",
    "g_a = Goal_scorer['Player']\n",
    "\n",
    "g_b =  Goal_scorer['Squad']\n",
    "\n",
    "g_c = Goal_scorer['Pos']\n",
    "\n",
    "g_d = Goal_scorer[\"Goals\"]\n",
    "\n",
    "g_e = Goal_scorer[\"Nation\"]\n",
    "\n",
    "Goal_scorer_df = pd.concat([g_a,g_b,g_c,g_d,g_e],axis=1)\n",
    "\n",
    "\n",
    "print(Goal_scorer_df)"
   ]
  },
  {
   "cell_type": "markdown",
   "id": "646de34c",
   "metadata": {},
   "source": [
    "#### Top 5 players with most Assists in Premier League."
   ]
  },
  {
   "cell_type": "code",
   "execution_count": 155,
   "id": "36ccf902",
   "metadata": {},
   "outputs": [
    {
     "name": "stdout",
     "output_type": "stream",
     "text": [
      "               Player            Squad Nation   Pos  Assists\n",
      "135       Luke Ayling     Leeds United    ENG    DF     2.00\n",
      "520   Kevin De Bruyne  Manchester City    BEL    MF     1.18\n",
      "1331  Anthony Martial   Manchester Utd    FRA    FW     1.11\n",
      "2080  Kostas Tsimikas        Liverpool    GRE    DF     0.95\n",
      "2182          Willian           Fulham    BRA  FWMF     0.91\n"
     ]
    }
   ],
   "source": [
    "assist = Pl.nlargest(5, ['Assists'])\n",
    "\n",
    "aa_a = assist['Player']\n",
    "\n",
    "aa_b =  assist['Squad']\n",
    "\n",
    "aa_c =  assist[\"Nation\"]\n",
    "\n",
    "aa_d = assist['Pos']\n",
    "\n",
    "aa_e = assist[\"Assists\"]\n",
    "\n",
    "assist_df = pd.concat([aa_a,aa_b,aa_c,aa_d,aa_e],axis=1)\n",
    "\n",
    "\n",
    "print(assist_df)"
   ]
  },
  {
   "cell_type": "markdown",
   "id": "6a3bbb92",
   "metadata": {},
   "source": [
    "#### Top 5 Players with most Dribbles completed successfully in Premier League."
   ]
  },
  {
   "cell_type": "code",
   "execution_count": 156,
   "id": "0945db11",
   "metadata": {},
   "outputs": [
    {
     "name": "stdout",
     "output_type": "stream",
     "text": [
      "              Player           Squad Nation   Pos  DriSucc\n",
      "644  Malcolm Ebiowei  Crystal Palace    ENG    FW     10.0\n",
      "135      Luke Ayling    Leeds United    ENG    DF      6.0\n",
      "351    Chem Campbell          Wolves    WAL  FWMF      6.0\n",
      "79   Elliot Anderson   Newcastle Utd    SCO  FWMF      5.0\n",
      "651    Samuel Edozie     Southampton    ENG  MFFW      5.0\n"
     ]
    }
   ],
   "source": [
    "Dribbles = Pl.nlargest(5, ['DriSucc'])\n",
    "d_a = Dribbles['Player']\n",
    "\n",
    "d_b =  Dribbles['Squad']\n",
    "\n",
    "d_c =  Dribbles[\"Nation\"]\n",
    "\n",
    "d_d = Dribbles['Pos']\n",
    "\n",
    "d_e = Dribbles[\"DriSucc\"]\n",
    "\n",
    "Dribbles_df = pd.concat([d_a,d_b,d_c,d_d,d_e],axis=1)\n",
    "\n",
    "\n",
    "print(Dribbles_df)"
   ]
  },
  {
   "cell_type": "markdown",
   "id": "eaf4efc6",
   "metadata": {},
   "source": [
    "#### Top 5 players most Tackles won in Premier League."
   ]
  },
  {
   "cell_type": "code",
   "execution_count": 157,
   "id": "418ea5d3",
   "metadata": {},
   "outputs": [
    {
     "name": "stdout",
     "output_type": "stream",
     "text": [
      "                  Player            Squad Nation   Pos  TklWon\n",
      "240           Owen Bevan      Bournemouth    WAL    DF    10.0\n",
      "242     Giulian Biancone  Nott'ham Forest    FRA    DF    10.0\n",
      "404   Nathaniel Chalobah           Fulham    ENG    MF    10.0\n",
      "1925        Oliver Skipp        Tottenham    ENG    MF    10.0\n",
      "2088         Deniz Undav         Brighton    GER  MFFW    10.0\n"
     ]
    }
   ],
   "source": [
    "tackle = Pl.nlargest(5, ['TklWon'])\n",
    "\n",
    "t_a = tackle['Player']\n",
    "\n",
    "t_b =  tackle['Squad']\n",
    "\n",
    "t_c = tackle[\"Nation\"]\n",
    "\n",
    "t_d = tackle['Pos']\n",
    "\n",
    "t_e = tackle[\"TklWon\"]\n",
    "\n",
    "tackle_df = pd.concat([t_a,t_b,t_c,t_d,t_e],axis=1)\n",
    "\n",
    "\n",
    "print(tackle_df)"
   ]
  },
  {
   "cell_type": "markdown",
   "id": "7440e6b4",
   "metadata": {},
   "source": [
    "#### Top 5 players with the most yellow cards in Premier League."
   ]
  },
  {
   "cell_type": "code",
   "execution_count": 158,
   "id": "342c8d36",
   "metadata": {},
   "outputs": [
    {
     "name": "stdout",
     "output_type": "stream",
     "text": [
      "                   Player            Squad Nation   Pos  CrdY\n",
      "126   Ludwig Augustinsson      Aston Villa    SWE    DF  2.00\n",
      "267            Willy Boly  Nott'ham Forest    CIV    DF  1.43\n",
      "1280        Harry Maguire   Manchester Utd    ENG    DF  1.43\n",
      "1417           Yerry Mina          Everton    COL    DF  1.25\n",
      "1918      Luis Sinisterra     Leeds United    COL  FWMF  1.20\n"
     ]
    }
   ],
   "source": [
    "yellow_card = Pl.nlargest(5, ['CrdY'])\n",
    "\n",
    "yc_a = yellow_card['Player']\n",
    "\n",
    "yc_b =  yellow_card['Squad']\n",
    "\n",
    "yc_c = yellow_card[\"Nation\"]\n",
    "\n",
    "yc_d = yellow_card['Pos']\n",
    "\n",
    "yc_e = yellow_card[\"CrdY\"]\n",
    "\n",
    "yellow_card_df = pd.concat([yc_a,yc_b,yc_c,yc_d,yc_e],axis=1)\n",
    "\n",
    "\n",
    "print(yellow_card_df)"
   ]
  },
  {
   "cell_type": "markdown",
   "id": "557a1c88",
   "metadata": {},
   "source": [
    "#### Top 5 players with the most red cards in Premier League."
   ]
  },
  {
   "cell_type": "code",
   "execution_count": 159,
   "id": "384db807",
   "metadata": {},
   "outputs": [
    {
     "name": "stdout",
     "output_type": "stream",
     "text": [
      "                  Player         Squad Nation   Pos   CrdR\n",
      "404   Nathaniel Chalobah        Fulham    ENG    MF  10.00\n",
      "1528        Darwin Núñez     Liverpool    URU    FW   0.50\n",
      "1918     Luis Sinisterra  Leeds United    COL  FWMF   0.40\n",
      "769      Conor Gallagher       Chelsea    ENG  MFFW   0.36\n",
      "1128   Kalidou Koulibaly       Chelsea    SEN    DF   0.18\n"
     ]
    }
   ],
   "source": [
    "red_card = Pl.nlargest(5, ['CrdR'])\n",
    "\n",
    "rc_a = red_card['Player']\n",
    "\n",
    "rc_b =  red_card['Squad']\n",
    "\n",
    "rc_c = red_card[\"Nation\"]\n",
    "\n",
    "rc_d = red_card['Pos']\n",
    "\n",
    "rc_e = red_card[\"CrdR\"]\n",
    "\n",
    "red_card_df = pd.concat([rc_a,rc_b,rc_c,rc_d,rc_e],axis=1)\n",
    "\n",
    "\n",
    "print(red_card_df)"
   ]
  },
  {
   "cell_type": "markdown",
   "id": "aad88c57",
   "metadata": {},
   "source": [
    "#### Player with most nutmegs in Premier League."
   ]
  },
  {
   "cell_type": "code",
   "execution_count": 160,
   "id": "c5ea5e27",
   "metadata": {},
   "outputs": [
    {
     "name": "stdout",
     "output_type": "stream",
     "text": [
      "Samuel Edozie\n"
     ]
    }
   ],
   "source": [
    "Megs = Pl.loc[Pl[\"DriMegs\"].idxmax()]\n",
    "\n",
    "\n",
    "print (Megs[\"Player\"])"
   ]
  },
  {
   "cell_type": "markdown",
   "id": "012e04b3",
   "metadata": {},
   "source": [
    "#### Bar Graph of the age of the players in Premier League."
   ]
  },
  {
   "cell_type": "code",
   "execution_count": 177,
   "id": "172e56ee",
   "metadata": {},
   "outputs": [
    {
     "data": {
      "image/png": "[encoded data removed]",
      "text/plain": [
       "<Figure size 432x288 with 1 Axes>"
      ]
     },
     "metadata": {
      "needs_background": "light"
     },
     "output_type": "display_data"
    }
   ],
   "source": [
    "h = Pl[\"Age\"]\n",
    "cnt = Counter(h)\n",
    "\n",
    "## Sorting the items in the dictionary in accesseding order.\n",
    "sort_cnt = sorted(cnt.items())\n",
    "sort_cnt_dict = dict(sort_cnt)\n",
    "\n",
    "## Seprtating the keys and values from the dictionary into another variable.\n",
    "keys = sort_cnt_dict.keys()\n",
    "values = sort_cnt_dict.values()\n",
    "\n",
    "plt.bar(keys, values, width = 0.8)\n",
    "plt.title(\"Player's age Bar Graph\")\n",
    "plt.xlabel(\"Age\")\n",
    "plt.ylabel(\"Frequency\")\n",
    "#ax.xaxis.grid(True, which='minor')\n",
    "\n",
    "plt.xticks([15,17,19,21,23,25,27,29,31,33,35,37,39,41])\n",
    "plt.yticks([0,4,8,12,16,20,24,28,32,36,40])\n",
    "\n",
    "\n",
    "\n",
    "plt.show()"
   ]
  },
  {
   "cell_type": "markdown",
   "id": "019103df",
   "metadata": {},
   "source": [
    "#### Pie chart of National and Foreign in Premier League."
   ]
  },
  {
   "cell_type": "code",
   "execution_count": 162,
   "id": "3d6cefc7",
   "metadata": {},
   "outputs": [
    {
     "name": "stdout",
     "output_type": "stream",
     "text": [
      "Percentage of National Players:  32.12 %\n",
      "Percentage of Foreign Players:  67.88 %\n"
     ]
    },
    {
     "data": {
      "image/png": "[encoded data removed]",
      "text/plain": [
       "<Figure size 432x288 with 1 Axes>"
      ]
     },
     "metadata": {},
     "output_type": "display_data"
    }
   ],
   "source": [
    "F = Pl[\"Nation\"]\n",
    "cntF = Counter(F)\n",
    "\n",
    "# Removing the item where Nation is spain from the dictionary. \n",
    "r_National = cntF.pop('ENG')\n",
    "sumPl = sum(cntF.values())\n",
    "\n",
    "N_per = r_National/(r_National+sumPl)*100\n",
    "N_per = round(N_per,2)\n",
    "print(\"Percentage of National Players: \", N_per,\"%\")\n",
    "\n",
    "s_per = sumPl/(r_National+sumPl) * 100\n",
    "s_per = round(s_per,2)\n",
    "print(\"Percentage of Foreign Players: \", s_per,\"%\")\n",
    "\n",
    "label = [\"National Players (32.12%) \",\"Foreign players (67.88%)\" ]\n",
    "plt.pie([r_National, sumPl],labels = label, colors = [\"Blue\",\"Red\"])\n",
    "\n",
    "\n",
    "plt.show()"
   ]
  },
  {
   "cell_type": "markdown",
   "id": "b4377965",
   "metadata": {},
   "source": [
    "## Serie A 2022-2023 Football Player Stats."
   ]
  },
  {
   "cell_type": "markdown",
   "id": "6347b0e6",
   "metadata": {},
   "source": [
    "#### Making a DataFrame of only Serie A players."
   ]
  },
  {
   "cell_type": "code",
   "execution_count": 163,
   "id": "f6ddfda8",
   "metadata": {},
   "outputs": [
    {
     "data": {
      "text/html": [
       "<div>\n",
       "<style scoped>\n",
       "    .dataframe tbody tr th:only-of-type {\n",
       "        vertical-align: middle;\n",
       "    }\n",
       "\n",
       "    .dataframe tbody tr th {\n",
       "        vertical-align: top;\n",
       "    }\n",
       "\n",
       "    .dataframe thead th {\n",
       "        text-align: right;\n",
       "    }\n",
       "</style>\n",
       "<table border=\"1\" class=\"dataframe\">\n",
       "  <thead>\n",
       "    <tr style=\"text-align: right;\">\n",
       "      <th></th>\n",
       "      <th>S.No</th>\n",
       "      <th>Player</th>\n",
       "      <th>Nation</th>\n",
       "      <th>Pos</th>\n",
       "      <th>Squad</th>\n",
       "      <th>Comp</th>\n",
       "      <th>Age</th>\n",
       "      <th>Born</th>\n",
       "      <th>MP</th>\n",
       "      <th>Starts</th>\n",
       "      <th>...</th>\n",
       "      <th>Off</th>\n",
       "      <th>Crs</th>\n",
       "      <th>TklW</th>\n",
       "      <th>PKwon</th>\n",
       "      <th>PKcon</th>\n",
       "      <th>OG</th>\n",
       "      <th>Recov</th>\n",
       "      <th>AerWon</th>\n",
       "      <th>AerLost</th>\n",
       "      <th>AerWon%</th>\n",
       "    </tr>\n",
       "  </thead>\n",
       "  <tbody>\n",
       "    <tr>\n",
       "      <th>7</th>\n",
       "      <td>8</td>\n",
       "      <td>Tammy Abraham</td>\n",
       "      <td>ENG</td>\n",
       "      <td>FW</td>\n",
       "      <td>Roma</td>\n",
       "      <td>Serie A</td>\n",
       "      <td>25</td>\n",
       "      <td>1997</td>\n",
       "      <td>8</td>\n",
       "      <td>7</td>\n",
       "      <td>...</td>\n",
       "      <td>0.45</td>\n",
       "      <td>0.15</td>\n",
       "      <td>0.30</td>\n",
       "      <td>0.0</td>\n",
       "      <td>0.0</td>\n",
       "      <td>0.0</td>\n",
       "      <td>2.88</td>\n",
       "      <td>3.64</td>\n",
       "      <td>2.12</td>\n",
       "      <td>63.2</td>\n",
       "    </tr>\n",
       "    <tr>\n",
       "      <th>8</th>\n",
       "      <td>9</td>\n",
       "      <td>Francesco Acerbi</td>\n",
       "      <td>ITA</td>\n",
       "      <td>DF</td>\n",
       "      <td>Inter</td>\n",
       "      <td>Serie A</td>\n",
       "      <td>34</td>\n",
       "      <td>1988</td>\n",
       "      <td>3</td>\n",
       "      <td>3</td>\n",
       "      <td>...</td>\n",
       "      <td>0.00</td>\n",
       "      <td>0.00</td>\n",
       "      <td>1.03</td>\n",
       "      <td>0.0</td>\n",
       "      <td>0.0</td>\n",
       "      <td>0.0</td>\n",
       "      <td>8.62</td>\n",
       "      <td>4.48</td>\n",
       "      <td>0.69</td>\n",
       "      <td>86.7</td>\n",
       "    </tr>\n",
       "    <tr>\n",
       "      <th>18</th>\n",
       "      <td>19</td>\n",
       "      <td>Yacine Adli</td>\n",
       "      <td>FRA</td>\n",
       "      <td>MF</td>\n",
       "      <td>Milan</td>\n",
       "      <td>Serie A</td>\n",
       "      <td>22</td>\n",
       "      <td>2000</td>\n",
       "      <td>3</td>\n",
       "      <td>0</td>\n",
       "      <td>...</td>\n",
       "      <td>0.00</td>\n",
       "      <td>3.33</td>\n",
       "      <td>1.67</td>\n",
       "      <td>0.0</td>\n",
       "      <td>0.0</td>\n",
       "      <td>0.0</td>\n",
       "      <td>5.00</td>\n",
       "      <td>0.00</td>\n",
       "      <td>3.33</td>\n",
       "      <td>0.0</td>\n",
       "    </tr>\n",
       "    <tr>\n",
       "      <th>19</th>\n",
       "      <td>20</td>\n",
       "      <td>Michel Aebischer</td>\n",
       "      <td>SUI</td>\n",
       "      <td>MF</td>\n",
       "      <td>Bologna</td>\n",
       "      <td>Serie A</td>\n",
       "      <td>25</td>\n",
       "      <td>1997</td>\n",
       "      <td>8</td>\n",
       "      <td>2</td>\n",
       "      <td>...</td>\n",
       "      <td>0.67</td>\n",
       "      <td>1.00</td>\n",
       "      <td>1.33</td>\n",
       "      <td>0.0</td>\n",
       "      <td>0.0</td>\n",
       "      <td>0.0</td>\n",
       "      <td>5.33</td>\n",
       "      <td>1.00</td>\n",
       "      <td>2.33</td>\n",
       "      <td>30.0</td>\n",
       "    </tr>\n",
       "    <tr>\n",
       "      <th>20</th>\n",
       "      <td>21</td>\n",
       "      <td>Felix Afena-Gyan</td>\n",
       "      <td>GHA</td>\n",
       "      <td>FW</td>\n",
       "      <td>Cremonese</td>\n",
       "      <td>Serie A</td>\n",
       "      <td>19</td>\n",
       "      <td>2003</td>\n",
       "      <td>2</td>\n",
       "      <td>0</td>\n",
       "      <td>...</td>\n",
       "      <td>0.00</td>\n",
       "      <td>0.00</td>\n",
       "      <td>0.00</td>\n",
       "      <td>0.0</td>\n",
       "      <td>0.0</td>\n",
       "      <td>0.0</td>\n",
       "      <td>10.00</td>\n",
       "      <td>2.50</td>\n",
       "      <td>17.50</td>\n",
       "      <td>12.5</td>\n",
       "    </tr>\n",
       "  </tbody>\n",
       "</table>\n",
       "<p>5 rows × 143 columns</p>\n",
       "</div>"
      ],
      "text/plain": [
       "    S.No            Player Nation Pos      Squad     Comp  Age  Born  MP  \\\n",
       "7      8     Tammy Abraham    ENG  FW       Roma  Serie A   25  1997   8   \n",
       "8      9  Francesco Acerbi    ITA  DF      Inter  Serie A   34  1988   3   \n",
       "18    19       Yacine Adli    FRA  MF      Milan  Serie A   22  2000   3   \n",
       "19    20  Michel Aebischer    SUI  MF    Bologna  Serie A   25  1997   8   \n",
       "20    21  Felix Afena-Gyan    GHA  FW  Cremonese  Serie A   19  2003   2   \n",
       "\n",
       "    Starts  ...   Off   Crs  TklW  PKwon  PKcon   OG  Recov  AerWon  AerLost  \\\n",
       "7        7  ...  0.45  0.15  0.30    0.0    0.0  0.0   2.88    3.64     2.12   \n",
       "8        3  ...  0.00  0.00  1.03    0.0    0.0  0.0   8.62    4.48     0.69   \n",
       "18       0  ...  0.00  3.33  1.67    0.0    0.0  0.0   5.00    0.00     3.33   \n",
       "19       2  ...  0.67  1.00  1.33    0.0    0.0  0.0   5.33    1.00     2.33   \n",
       "20       0  ...  0.00  0.00  0.00    0.0    0.0  0.0  10.00    2.50    17.50   \n",
       "\n",
       "    AerWon%  \n",
       "7      63.2  \n",
       "8      86.7  \n",
       "18      0.0  \n",
       "19     30.0  \n",
       "20     12.5  \n",
       "\n",
       "[5 rows x 143 columns]"
      ]
     },
     "execution_count": 163,
     "metadata": {},
     "output_type": "execute_result"
    }
   ],
   "source": [
    "SA = df.loc[df.Comp == \"Serie A\"]\n",
    "\n",
    "\n",
    "SA.head()"
   ]
  },
  {
   "cell_type": "markdown",
   "id": "62faad11",
   "metadata": {},
   "source": [
    "#### Deleting S.No column from DataFrame."
   ]
  },
  {
   "cell_type": "code",
   "execution_count": 164,
   "id": "c5fa7ca6",
   "metadata": {},
   "outputs": [
    {
     "data": {
      "text/html": [
       "<div>\n",
       "<style scoped>\n",
       "    .dataframe tbody tr th:only-of-type {\n",
       "        vertical-align: middle;\n",
       "    }\n",
       "\n",
       "    .dataframe tbody tr th {\n",
       "        vertical-align: top;\n",
       "    }\n",
       "\n",
       "    .dataframe thead th {\n",
       "        text-align: right;\n",
       "    }\n",
       "</style>\n",
       "<table border=\"1\" class=\"dataframe\">\n",
       "  <thead>\n",
       "    <tr style=\"text-align: right;\">\n",
       "      <th></th>\n",
       "      <th>Player</th>\n",
       "      <th>Nation</th>\n",
       "      <th>Pos</th>\n",
       "      <th>Squad</th>\n",
       "      <th>Comp</th>\n",
       "      <th>Age</th>\n",
       "      <th>Born</th>\n",
       "      <th>MP</th>\n",
       "      <th>Starts</th>\n",
       "      <th>Min</th>\n",
       "      <th>...</th>\n",
       "      <th>Off</th>\n",
       "      <th>Crs</th>\n",
       "      <th>TklW</th>\n",
       "      <th>PKwon</th>\n",
       "      <th>PKcon</th>\n",
       "      <th>OG</th>\n",
       "      <th>Recov</th>\n",
       "      <th>AerWon</th>\n",
       "      <th>AerLost</th>\n",
       "      <th>AerWon%</th>\n",
       "    </tr>\n",
       "  </thead>\n",
       "  <tbody>\n",
       "    <tr>\n",
       "      <th>7</th>\n",
       "      <td>Tammy Abraham</td>\n",
       "      <td>ENG</td>\n",
       "      <td>FW</td>\n",
       "      <td>Roma</td>\n",
       "      <td>Serie A</td>\n",
       "      <td>25</td>\n",
       "      <td>1997</td>\n",
       "      <td>8</td>\n",
       "      <td>7</td>\n",
       "      <td>593</td>\n",
       "      <td>...</td>\n",
       "      <td>0.45</td>\n",
       "      <td>0.15</td>\n",
       "      <td>0.30</td>\n",
       "      <td>0.0</td>\n",
       "      <td>0.0</td>\n",
       "      <td>0.0</td>\n",
       "      <td>2.88</td>\n",
       "      <td>3.64</td>\n",
       "      <td>2.12</td>\n",
       "      <td>63.2</td>\n",
       "    </tr>\n",
       "    <tr>\n",
       "      <th>8</th>\n",
       "      <td>Francesco Acerbi</td>\n",
       "      <td>ITA</td>\n",
       "      <td>DF</td>\n",
       "      <td>Inter</td>\n",
       "      <td>Serie A</td>\n",
       "      <td>34</td>\n",
       "      <td>1988</td>\n",
       "      <td>3</td>\n",
       "      <td>3</td>\n",
       "      <td>258</td>\n",
       "      <td>...</td>\n",
       "      <td>0.00</td>\n",
       "      <td>0.00</td>\n",
       "      <td>1.03</td>\n",
       "      <td>0.0</td>\n",
       "      <td>0.0</td>\n",
       "      <td>0.0</td>\n",
       "      <td>8.62</td>\n",
       "      <td>4.48</td>\n",
       "      <td>0.69</td>\n",
       "      <td>86.7</td>\n",
       "    </tr>\n",
       "    <tr>\n",
       "      <th>18</th>\n",
       "      <td>Yacine Adli</td>\n",
       "      <td>FRA</td>\n",
       "      <td>MF</td>\n",
       "      <td>Milan</td>\n",
       "      <td>Serie A</td>\n",
       "      <td>22</td>\n",
       "      <td>2000</td>\n",
       "      <td>3</td>\n",
       "      <td>0</td>\n",
       "      <td>57</td>\n",
       "      <td>...</td>\n",
       "      <td>0.00</td>\n",
       "      <td>3.33</td>\n",
       "      <td>1.67</td>\n",
       "      <td>0.0</td>\n",
       "      <td>0.0</td>\n",
       "      <td>0.0</td>\n",
       "      <td>5.00</td>\n",
       "      <td>0.00</td>\n",
       "      <td>3.33</td>\n",
       "      <td>0.0</td>\n",
       "    </tr>\n",
       "    <tr>\n",
       "      <th>19</th>\n",
       "      <td>Michel Aebischer</td>\n",
       "      <td>SUI</td>\n",
       "      <td>MF</td>\n",
       "      <td>Bologna</td>\n",
       "      <td>Serie A</td>\n",
       "      <td>25</td>\n",
       "      <td>1997</td>\n",
       "      <td>8</td>\n",
       "      <td>2</td>\n",
       "      <td>273</td>\n",
       "      <td>...</td>\n",
       "      <td>0.67</td>\n",
       "      <td>1.00</td>\n",
       "      <td>1.33</td>\n",
       "      <td>0.0</td>\n",
       "      <td>0.0</td>\n",
       "      <td>0.0</td>\n",
       "      <td>5.33</td>\n",
       "      <td>1.00</td>\n",
       "      <td>2.33</td>\n",
       "      <td>30.0</td>\n",
       "    </tr>\n",
       "    <tr>\n",
       "      <th>20</th>\n",
       "      <td>Felix Afena-Gyan</td>\n",
       "      <td>GHA</td>\n",
       "      <td>FW</td>\n",
       "      <td>Cremonese</td>\n",
       "      <td>Serie A</td>\n",
       "      <td>19</td>\n",
       "      <td>2003</td>\n",
       "      <td>2</td>\n",
       "      <td>0</td>\n",
       "      <td>40</td>\n",
       "      <td>...</td>\n",
       "      <td>0.00</td>\n",
       "      <td>0.00</td>\n",
       "      <td>0.00</td>\n",
       "      <td>0.0</td>\n",
       "      <td>0.0</td>\n",
       "      <td>0.0</td>\n",
       "      <td>10.00</td>\n",
       "      <td>2.50</td>\n",
       "      <td>17.50</td>\n",
       "      <td>12.5</td>\n",
       "    </tr>\n",
       "  </tbody>\n",
       "</table>\n",
       "<p>5 rows × 142 columns</p>\n",
       "</div>"
      ],
      "text/plain": [
       "              Player Nation Pos      Squad     Comp  Age  Born  MP  Starts  \\\n",
       "7      Tammy Abraham    ENG  FW       Roma  Serie A   25  1997   8       7   \n",
       "8   Francesco Acerbi    ITA  DF      Inter  Serie A   34  1988   3       3   \n",
       "18       Yacine Adli    FRA  MF      Milan  Serie A   22  2000   3       0   \n",
       "19  Michel Aebischer    SUI  MF    Bologna  Serie A   25  1997   8       2   \n",
       "20  Felix Afena-Gyan    GHA  FW  Cremonese  Serie A   19  2003   2       0   \n",
       "\n",
       "    Min  ...   Off   Crs  TklW  PKwon  PKcon   OG  Recov  AerWon  AerLost  \\\n",
       "7   593  ...  0.45  0.15  0.30    0.0    0.0  0.0   2.88    3.64     2.12   \n",
       "8   258  ...  0.00  0.00  1.03    0.0    0.0  0.0   8.62    4.48     0.69   \n",
       "18   57  ...  0.00  3.33  1.67    0.0    0.0  0.0   5.00    0.00     3.33   \n",
       "19  273  ...  0.67  1.00  1.33    0.0    0.0  0.0   5.33    1.00     2.33   \n",
       "20   40  ...  0.00  0.00  0.00    0.0    0.0  0.0  10.00    2.50    17.50   \n",
       "\n",
       "    AerWon%  \n",
       "7      63.2  \n",
       "8      86.7  \n",
       "18      0.0  \n",
       "19     30.0  \n",
       "20     12.5  \n",
       "\n",
       "[5 rows x 142 columns]"
      ]
     },
     "execution_count": 164,
     "metadata": {},
     "output_type": "execute_result"
    }
   ],
   "source": [
    "SA = SA.drop('S.No', axis = 1)\n",
    "\n",
    "\n",
    "SA.head()"
   ]
  },
  {
   "cell_type": "markdown",
   "id": "b217b865",
   "metadata": {},
   "source": [
    "#### Average age of players in Serie A."
   ]
  },
  {
   "cell_type": "code",
   "execution_count": 165,
   "id": "56292d08",
   "metadata": {},
   "outputs": [
    {
     "name": "stdout",
     "output_type": "stream",
     "text": [
      "Average age of player is:  25\n"
     ]
    }
   ],
   "source": [
    "av_age = int(SA[\"Age\"].mean())\n",
    "\n",
    "\n",
    "print(\"Average age of player is: \", av_age)"
   ]
  },
  {
   "cell_type": "markdown",
   "id": "6aff8366",
   "metadata": {},
   "source": [
    "#### Oldest player in Serie A."
   ]
  },
  {
   "cell_type": "code",
   "execution_count": 166,
   "id": "280c1b03",
   "metadata": {},
   "outputs": [
    {
     "name": "stdout",
     "output_type": "stream",
     "text": [
      "Name of the oldest player:  Fabio Quagliarella \n",
      "\n",
      "Age of the oldest player:  39\n"
     ]
    }
   ],
   "source": [
    "oldest = SA.loc[SA[\"Age\"].idxmax()]\n",
    "\n",
    "\n",
    "print(\"Name of the oldest player: \", oldest['Player'],\"\\n\")\n",
    "print(\"Age of the oldest player: \", oldest['Age'])"
   ]
  },
  {
   "cell_type": "markdown",
   "id": "ef55943e",
   "metadata": {},
   "source": [
    "#### Youngest player in Serie A."
   ]
  },
  {
   "cell_type": "code",
   "execution_count": 167,
   "id": "1896f67c",
   "metadata": {},
   "outputs": [
    {
     "name": "stdout",
     "output_type": "stream",
     "text": [
      "Name of the youngest player:  Julius Beck \n",
      "\n",
      "Age of the youngest player:  17\n"
     ]
    }
   ],
   "source": [
    "youngest = SA.loc[SA[\"Age\"].idxmin()]\n",
    "\n",
    "\n",
    "print(\"Name of the youngest player: \", youngest['Player'],\"\\n\")\n",
    "print(\"Age of the youngest player: \", youngest['Age'])"
   ]
  },
  {
   "cell_type": "markdown",
   "id": "f1b0cac6",
   "metadata": {},
   "source": [
    "#### Top 5 Goal Scorers in Serie A."
   ]
  },
  {
   "cell_type": "code",
   "execution_count": 168,
   "id": "301d8f6b",
   "metadata": {},
   "outputs": [
    {
     "name": "stdout",
     "output_type": "stream",
     "text": [
      "                        Player       Squad Pos  Goals Nation\n",
      "832           Nicolás González  Fiorentina  FW   2.00    ARG\n",
      "87               Janis Antiste    Sassuolo  FW   1.67    FRA\n",
      "1728                Ante Rebi?       Milan  FW   1.58    CRO\n",
      "239                       Beto     Udinese  FW   1.35    GNB\n",
      "68    Agustín Álvarez Martínez    Sassuolo  FW   1.25    URU\n"
     ]
    }
   ],
   "source": [
    "Goal_scorer = SA.nlargest(5, ['Goals'])\n",
    "\n",
    "g_a = Goal_scorer['Player']\n",
    "\n",
    "g_b =  Goal_scorer['Squad']\n",
    "\n",
    "g_c = Goal_scorer['Pos']\n",
    "\n",
    "g_d = Goal_scorer[\"Goals\"]\n",
    "\n",
    "g_e = Goal_scorer[\"Nation\"]\n",
    "\n",
    "Goal_scorer_df = pd.concat([g_a,g_b,g_c,g_d,g_e],axis=1)\n",
    "\n",
    "\n",
    "print(Goal_scorer_df)"
   ]
  },
  {
   "cell_type": "markdown",
   "id": "d75ea3fa",
   "metadata": {},
   "source": [
    "#### Top 5 players with most Assists in Serie A."
   ]
  },
  {
   "cell_type": "code",
   "execution_count": 169,
   "id": "67f7001d",
   "metadata": {},
   "outputs": [
    {
     "name": "stdout",
     "output_type": "stream",
     "text": [
      "                        Player       Squad Nation Pos  Assists\n",
      "765           Gianluca Gaetano      Napoli    ITA  MF     5.00\n",
      "2238          Szymon ?urkowski  Fiorentina    POL  MF     2.50\n",
      "1500         Ilija Nestorovski     Udinese    MKD  FW     1.67\n",
      "68    Agustín Álvarez Martínez    Sassuolo    URU  FW     1.25\n",
      "554            Gerard Deulofeu     Udinese    ESP  FW     0.81\n"
     ]
    }
   ],
   "source": [
    "assist = SA.nlargest(5, ['Assists'])\n",
    "\n",
    "aa_a = assist['Player']\n",
    "\n",
    "aa_b =  assist['Squad']\n",
    "\n",
    "aa_c =  assist[\"Nation\"]\n",
    "\n",
    "aa_d = assist['Pos']\n",
    "\n",
    "aa_e = assist[\"Assists\"]\n",
    "\n",
    "assist_df = pd.concat([aa_a,aa_b,aa_c,aa_d,aa_e],axis=1)\n",
    "\n",
    "\n",
    "print(assist_df)"
   ]
  },
  {
   "cell_type": "markdown",
   "id": "173c7cfa",
   "metadata": {},
   "source": [
    "#### Top 5 Players with most Dribbles completed successfully in Serie A."
   ]
  },
  {
   "cell_type": "code",
   "execution_count": 170,
   "id": "0b8c9de4",
   "metadata": {},
   "outputs": [
    {
     "name": "stdout",
     "output_type": "stream",
     "text": [
      "                Player      Squad Nation   Pos  DriSucc\n",
      "1842     Leandro Sanca     Spezia    POR  FWDF    13.30\n",
      "270       Warren Bondo      Monza    FRA    MF    10.00\n",
      "1075      Yann Karamoh     Torino    FRA    DF    10.00\n",
      "1403  Tommaso Milanese  Cremonese    ITA    MF    10.00\n",
      "1562      Divock Origi      Milan    BEL    FW     8.33\n"
     ]
    }
   ],
   "source": [
    "Dribbles = SA.nlargest(5, ['DriSucc'])\n",
    "\n",
    "d_a = Dribbles['Player']\n",
    "\n",
    "d_b =  Dribbles['Squad']\n",
    "\n",
    "d_c =  Dribbles[\"Nation\"]\n",
    "\n",
    "d_d = Dribbles['Pos']\n",
    "\n",
    "d_e = Dribbles[\"DriSucc\"]\n",
    "\n",
    "Dribbles_df = pd.concat([d_a,d_b,d_c,d_d,d_e],axis=1)\n",
    "\n",
    "\n",
    "print(Dribbles_df)"
   ]
  },
  {
   "cell_type": "markdown",
   "id": "a72624c7",
   "metadata": {},
   "source": [
    "#### Top 5 players most Tackles won in Serie A."
   ]
  },
  {
   "cell_type": "code",
   "execution_count": 171,
   "id": "4743af9d",
   "metadata": {},
   "outputs": [
    {
     "name": "stdout",
     "output_type": "stream",
     "text": [
      "               Player   Squad Nation Pos  TklWon\n",
      "1075     Yann Karamoh  Torino    FRA  DF   20.00\n",
      "199       Julius Beck  Spezia    DEN  MF   10.00\n",
      "705    Jacopo Fazzini  Empoli    ITA  MF    6.67\n",
      "328   Liberato Cacace  Empoli    NZL  DF    5.00\n",
      "344    Mohamed Camara    Roma    GUI  MF    5.00\n"
     ]
    }
   ],
   "source": [
    "tackle = SA.nlargest(5, ['TklWon'])\n",
    "\n",
    "t_a = tackle['Player']\n",
    "\n",
    "t_b =  tackle['Squad']\n",
    "\n",
    "t_c = tackle[\"Nation\"]\n",
    "\n",
    "t_d = tackle['Pos']\n",
    "\n",
    "t_e = tackle[\"TklWon\"]\n",
    "\n",
    "tackle_df = pd.concat([t_a,t_b,t_c,t_d,t_e],axis=1)\n",
    "\n",
    "\n",
    "print(tackle_df)"
   ]
  },
  {
   "cell_type": "markdown",
   "id": "8ebe3198",
   "metadata": {},
   "source": [
    "#### Top 5 players with the most yellow cards in Serie A."
   ]
  },
  {
   "cell_type": "code",
   "execution_count": 172,
   "id": "488ee078",
   "metadata": {},
   "outputs": [
    {
     "name": "stdout",
     "output_type": "stream",
     "text": [
      "                      Player          Squad Nation Pos   CrdY\n",
      "645            Festy Ebosele        Udinese    IRL  DF  10.00\n",
      "40    Jean-Daniel Akpa-Akpro         Empoli    CIV  MF   3.33\n",
      "324               Juan Cabal  Hellas Verona    COL  DF   3.33\n",
      "705           Jacopo Fazzini         Empoli    ITA  MF   3.33\n",
      "1794          Nicolò Rovella       Juventus    ITA  MF   3.33\n"
     ]
    }
   ],
   "source": [
    "yellow_card = SA.nlargest(5, ['CrdY'])\n",
    "\n",
    "yc_a = yellow_card['Player']\n",
    "\n",
    "yc_b =  yellow_card['Squad']\n",
    "\n",
    "yc_c = yellow_card[\"Nation\"]\n",
    "\n",
    "\n",
    "yc_d = yellow_card['Pos']\n",
    "\n",
    "yc_e = yellow_card[\"CrdY\"]\n",
    "\n",
    "yellow_card_df = pd.concat([yc_a,yc_b,yc_c,yc_d,yc_e],axis=1)\n",
    "\n",
    "\n",
    "print(yellow_card_df)"
   ]
  },
  {
   "cell_type": "markdown",
   "id": "f75ddc73",
   "metadata": {},
   "source": [
    "#### Top 5 players with the most red cards in Serie A."
   ]
  },
  {
   "cell_type": "code",
   "execution_count": 173,
   "id": "3ce505a6",
   "metadata": {},
   "outputs": [
    {
     "name": "stdout",
     "output_type": "stream",
     "text": [
      "                      Player     Squad Nation   Pos   CrdR\n",
      "1359          Luís Maximiano     Lazio    POR    GK  10.00\n",
      "1796                    Ruan  Sassuolo    BRA    DF   2.00\n",
      "40    Jean-Daniel Akpa-Akpro    Empoli    CIV    MF   1.67\n",
      "658              Albin Ekdal    Spezia    SWE    MF   1.00\n",
      "560           Ángel Di María  Juventus    ARG  FWMF   0.48\n"
     ]
    }
   ],
   "source": [
    "red_card = SA.nlargest(5, ['CrdR'])\n",
    "\n",
    "rc_a = red_card['Player']\n",
    "\n",
    "rc_b =  red_card['Squad']\n",
    "\n",
    "rc_c = red_card[\"Nation\"]\n",
    "\n",
    "rc_d = red_card['Pos']\n",
    "\n",
    "rc_e = red_card[\"CrdR\"]\n",
    "\n",
    "red_card_df = pd.concat([rc_a,rc_b,rc_c,rc_d,rc_e],axis=1)\n",
    "\n",
    "\n",
    "print(red_card_df)"
   ]
  },
  {
   "cell_type": "markdown",
   "id": "7411c619",
   "metadata": {},
   "source": [
    "#### Player with most nutmegs in Serie A."
   ]
  },
  {
   "cell_type": "code",
   "execution_count": 174,
   "id": "6ee1b8b9",
   "metadata": {},
   "outputs": [
    {
     "name": "stdout",
     "output_type": "stream",
     "text": [
      "Leandro Sanca\n"
     ]
    }
   ],
   "source": [
    "Megs = SA.loc[SA[\"DriMegs\"].idxmax()]\n",
    "\n",
    "\n",
    "print (Megs[\"Player\"])"
   ]
  },
  {
   "cell_type": "markdown",
   "id": "f6837aa6",
   "metadata": {},
   "source": [
    "#### Bar Graph of the age of the players in Serie A."
   ]
  },
  {
   "cell_type": "code",
   "execution_count": 175,
   "id": "ee51ccf3",
   "metadata": {},
   "outputs": [
    {
     "data": {
      "image/png": "[encoded data removed]",
      "text/plain": [
       "<Figure size 432x288 with 1 Axes>"
      ]
     },
     "metadata": {
      "needs_background": "light"
     },
     "output_type": "display_data"
    }
   ],
   "source": [
    "h = SA[\"Age\"]\n",
    "cnt = Counter(h)\n",
    "\n",
    "## Sorting the items in the dictionary in accesseding order.\n",
    "sort_cnt = sorted(cnt.items())\n",
    "sort_cnt_dict = dict(sort_cnt)\n",
    "\n",
    "## Seprating keys and values into another varible.\n",
    "keys = sort_cnt_dict.keys()\n",
    "values = sort_cnt_dict.values()\n",
    "\n",
    "plt.bar(keys, values, width = 0.8)\n",
    "plt.title(\"Player's age Bar Graph\")\n",
    "plt.xlabel(\"Age\")\n",
    "plt.ylabel(\"Frequency\")\n",
    "\n",
    "plt.xticks([15,17,19,21,23,25,27,29,31,33,35,37,39,41])\n",
    "plt.yticks([0,4,8,12,16,20,24,28,32,36,40])\n",
    "\n",
    "\n",
    "plt.show()"
   ]
  },
  {
   "cell_type": "markdown",
   "id": "7adf51bc",
   "metadata": {},
   "source": [
    "#### Pie chart of National and Foreign in Seria A."
   ]
  },
  {
   "cell_type": "code",
   "execution_count": 176,
   "id": "55cea91f",
   "metadata": {},
   "outputs": [
    {
     "name": "stdout",
     "output_type": "stream",
     "text": [
      "Percentage of National players 38.28 %\n",
      "Percentage of Foreign players:  64.82 %\n"
     ]
    },
    {
     "data": {
      "image/png": "[encoded data removed]",
      "text/plain": [
       "<Figure size 432x288 with 1 Axes>"
      ]
     },
     "metadata": {},
     "output_type": "display_data"
    }
   ],
   "source": [
    "F = SA[\"Nation\"]\n",
    "cntF = Counter(F)\n",
    "\n",
    "# Removing the item where Nation is spain from the dictionary. \n",
    "r_National = cntF.pop('ITA')\n",
    "N_per = r_National/(r_National+sumF)*100\n",
    "N_per = round(N_per,2)\n",
    "print(\"Percentage of National players\",N_per,\"%\")\n",
    "\n",
    "sumF = sum(cntF.values())\n",
    "s_per = sumF/(r_National+sumF) * 100\n",
    "s_per = round(s_per,2)\n",
    "print(\"Percentage of Foreign players: \" ,s_per,\"%\")\n",
    "\n",
    "label = [\"National Players (35.18%) \",\"Foreign players (64.82%)\" ]\n",
    "plt.pie([r_National, sumF],labels = label,  colors = [\"Blue\",\"Red\"])\n",
    "\n",
    "\n",
    "plt.show()"
   ]
  }
 ],
 "metadata": {
  "kernelspec": {
   "display_name": "Python 3 (ipykernel)",
   "language": "python",
   "name": "python3"
  },
  "language_info": {
   "codemirror_mode": {
    "name": "ipython",
    "version": 3
   },
   "file_extension": ".py",
   "mimetype": "text/x-python",
   "name": "python",
   "nbconvert_exporter": "python",
   "pygments_lexer": "ipython3",
   "version": "3.9.7"
  }
 },
 "nbformat": 4,
 "nbformat_minor": 5
}
